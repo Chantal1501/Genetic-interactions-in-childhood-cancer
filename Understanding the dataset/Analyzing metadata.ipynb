{
 "cells": [
  {
   "cell_type": "markdown",
   "metadata": {},
   "source": [
    "Importing libraries needed for the analysis."
   ]
  },
  {
   "cell_type": "code",
   "execution_count": 1,
   "metadata": {},
   "outputs": [],
   "source": [
    "import pandas as pd\n",
    "import matplotlib.pyplot as plt\n",
    "import numpy as np\n",
    "import matplotlib as mpl\n",
    "import math"
   ]
  },
  {
   "cell_type": "code",
   "execution_count": 2,
   "metadata": {},
   "outputs": [
    {
     "name": "stdout",
     "output_type": "stream",
     "text": [
      "\n",
      "INSTALLED VERSIONS\n",
      "------------------\n",
      "commit: None\n",
      "python: 3.7.0.final.0\n",
      "python-bits: 64\n",
      "OS: Windows\n",
      "OS-release: 10\n",
      "machine: AMD64\n",
      "processor: Intel64 Family 6 Model 78 Stepping 3, GenuineIntel\n",
      "byteorder: little\n",
      "LC_ALL: None\n",
      "LANG: None\n",
      "LOCALE: None.None\n",
      "\n",
      "pandas: 0.23.4\n",
      "pytest: 3.8.0\n",
      "pip: 10.0.1\n",
      "setuptools: 40.2.0\n",
      "Cython: 0.28.5\n",
      "numpy: 1.15.1\n",
      "scipy: 1.1.0\n",
      "pyarrow: None\n",
      "xarray: None\n",
      "IPython: 6.5.0\n",
      "sphinx: 1.7.9\n",
      "patsy: 0.5.0\n",
      "dateutil: 2.7.3\n",
      "pytz: 2018.5\n",
      "blosc: None\n",
      "bottleneck: 1.2.1\n",
      "tables: 3.4.4\n",
      "numexpr: 2.6.8\n",
      "feather: None\n",
      "matplotlib: 2.2.3\n",
      "openpyxl: 2.5.6\n",
      "xlrd: 1.1.0\n",
      "xlwt: 1.3.0\n",
      "xlsxwriter: 1.1.0\n",
      "lxml: 4.2.5\n",
      "bs4: 4.6.3\n",
      "html5lib: 1.0.1\n",
      "sqlalchemy: 1.2.11\n",
      "pymysql: None\n",
      "psycopg2: None\n",
      "jinja2: 2.10\n",
      "s3fs: None\n",
      "fastparquet: None\n",
      "pandas_gbq: None\n",
      "pandas_datareader: None\n"
     ]
    }
   ],
   "source": [
    "pd.show_versions()"
   ]
  },
  {
   "cell_type": "markdown",
   "metadata": {},
   "source": [
    "Reading in the dataset and showing the head of this dataset."
   ]
  },
  {
   "cell_type": "code",
   "execution_count": 2,
   "metadata": {},
   "outputs": [
    {
     "data": {
      "text/html": [
       "<div>\n",
       "<style scoped>\n",
       "    .dataframe tbody tr th:only-of-type {\n",
       "        vertical-align: middle;\n",
       "    }\n",
       "\n",
       "    .dataframe tbody tr th {\n",
       "        vertical-align: top;\n",
       "    }\n",
       "\n",
       "    .dataframe thead th {\n",
       "        text-align: right;\n",
       "    }\n",
       "</style>\n",
       "<table border=\"1\" class=\"dataframe\">\n",
       "  <thead>\n",
       "    <tr style=\"text-align: right;\">\n",
       "      <th></th>\n",
       "      <th>id</th>\n",
       "      <th>name</th>\n",
       "      <th>project</th>\n",
       "      <th>CBTTC Event ID</th>\n",
       "      <th>vital_status</th>\n",
       "      <th>ethnicity</th>\n",
       "      <th>Kids First Participant ID</th>\n",
       "      <th>gender</th>\n",
       "      <th>race</th>\n",
       "      <th>disease_type</th>\n",
       "      <th>...</th>\n",
       "      <th>primary_site</th>\n",
       "      <th>age_at_diagnosis</th>\n",
       "      <th>aliquot_id</th>\n",
       "      <th>library_id</th>\n",
       "      <th>reference_genome</th>\n",
       "      <th>case_id</th>\n",
       "      <th>Diagnosis</th>\n",
       "      <th>CBTTC Subject ID</th>\n",
       "      <th>CBTTC Aliquot ID</th>\n",
       "      <th>experimental_strategy</th>\n",
       "    </tr>\n",
       "  </thead>\n",
       "  <tbody>\n",
       "    <tr>\n",
       "      <th>0</th>\n",
       "      <td>5c50bd69e4b07ea2c0aefef0</td>\n",
       "      <td>558995e5-c2cb-441c-a1ea-dcb4d03c50b2.strelka.v...</td>\n",
       "      <td>pkemmeren/genetic-interactions-in-pediatric-ca...</td>\n",
       "      <td>7316-75</td>\n",
       "      <td>Alive</td>\n",
       "      <td>Not Hispanic or Latino</td>\n",
       "      <td>PT_Y0SNEN8Y</td>\n",
       "      <td>Male</td>\n",
       "      <td>White</td>\n",
       "      <td>Dysembryoplastic neuroepithelial tumor (DNET)</td>\n",
       "      <td>...</td>\n",
       "      <td>Frontal Lobe</td>\n",
       "      <td>3830.0</td>\n",
       "      <td>739791.0</td>\n",
       "      <td>NaN</td>\n",
       "      <td>NaN</td>\n",
       "      <td>C18696</td>\n",
       "      <td>Dysembryoplastic neuroepithelial tumor (DNET)</td>\n",
       "      <td>C18696</td>\n",
       "      <td>7316-75_739949</td>\n",
       "      <td>WGS</td>\n",
       "    </tr>\n",
       "    <tr>\n",
       "      <th>1</th>\n",
       "      <td>5c50bd69e4b07ea2c0aefef2</td>\n",
       "      <td>4e58f03f-8347-4375-b5ab-36161623d7bd.strelka.v...</td>\n",
       "      <td>pkemmeren/genetic-interactions-in-pediatric-ca...</td>\n",
       "      <td>7316-2005</td>\n",
       "      <td>Alive</td>\n",
       "      <td>Not Hispanic or Latino</td>\n",
       "      <td>PT_CGWPWSXM</td>\n",
       "      <td>Male</td>\n",
       "      <td>White</td>\n",
       "      <td>Ganglioglioma</td>\n",
       "      <td>...</td>\n",
       "      <td>Temporal Lobe</td>\n",
       "      <td>600.0</td>\n",
       "      <td>573079.0</td>\n",
       "      <td>NaN</td>\n",
       "      <td>NaN</td>\n",
       "      <td>C412542</td>\n",
       "      <td>Ganglioglioma</td>\n",
       "      <td>C412542</td>\n",
       "      <td>7316-2005</td>\n",
       "      <td>WGS</td>\n",
       "    </tr>\n",
       "    <tr>\n",
       "      <th>2</th>\n",
       "      <td>5c50bd69e4b07ea2c0aefef3</td>\n",
       "      <td>5bbd8fb5-bc21-4e22-be3f-5d82ab408cd4.strelka.v...</td>\n",
       "      <td>pkemmeren/genetic-interactions-in-pediatric-ca...</td>\n",
       "      <td>7316-99</td>\n",
       "      <td>Deceased-due to disease</td>\n",
       "      <td>Not Hispanic or Latino</td>\n",
       "      <td>PT_SCRJF38G</td>\n",
       "      <td>Female</td>\n",
       "      <td>White</td>\n",
       "      <td>Medulloblastoma</td>\n",
       "      <td>...</td>\n",
       "      <td>Cerebellum/Posterior Fossa</td>\n",
       "      <td>715.0</td>\n",
       "      <td>612699.0</td>\n",
       "      <td>NaN</td>\n",
       "      <td>NaN</td>\n",
       "      <td>C18081</td>\n",
       "      <td>Medulloblastoma</td>\n",
       "      <td>C18081</td>\n",
       "      <td>7316-99_608923</td>\n",
       "      <td>WGS</td>\n",
       "    </tr>\n",
       "    <tr>\n",
       "      <th>3</th>\n",
       "      <td>5c50bd69e4b07ea2c0aefef5</td>\n",
       "      <td>55a0b44f-9178-4bce-bef8-b9c2debc1af2.strelka.v...</td>\n",
       "      <td>pkemmeren/genetic-interactions-in-pediatric-ca...</td>\n",
       "      <td>7316-2322</td>\n",
       "      <td>Deceased-due to disease</td>\n",
       "      <td>Not Hispanic or Latino</td>\n",
       "      <td>PT_V8714N9H</td>\n",
       "      <td>Male</td>\n",
       "      <td>White</td>\n",
       "      <td>Medulloblastoma</td>\n",
       "      <td>...</td>\n",
       "      <td>Cerebellum/Posterior Fossa</td>\n",
       "      <td>761.0</td>\n",
       "      <td>563957.0</td>\n",
       "      <td>NaN</td>\n",
       "      <td>NaN</td>\n",
       "      <td>C647349</td>\n",
       "      <td>Medulloblastoma</td>\n",
       "      <td>C647349</td>\n",
       "      <td>7316-2322</td>\n",
       "      <td>WGS</td>\n",
       "    </tr>\n",
       "    <tr>\n",
       "      <th>4</th>\n",
       "      <td>5c50bd69e4b07ea2c0aefef8</td>\n",
       "      <td>63245568-be8e-47e8-8b34-8b42b2f5ea6c.strelka.v...</td>\n",
       "      <td>pkemmeren/genetic-interactions-in-pediatric-ca...</td>\n",
       "      <td>7316-87</td>\n",
       "      <td>Alive</td>\n",
       "      <td>Not Hispanic or Latino</td>\n",
       "      <td>PT_WE1CHTWK</td>\n",
       "      <td>Male</td>\n",
       "      <td>White</td>\n",
       "      <td>Supratentorial or Spinal Cord PNET</td>\n",
       "      <td>...</td>\n",
       "      <td>Frontal Lobe</td>\n",
       "      <td>523.0</td>\n",
       "      <td>62332.0</td>\n",
       "      <td>NaN</td>\n",
       "      <td>NaN</td>\n",
       "      <td>C26199</td>\n",
       "      <td>Supratentorial or Spinal Cord PNET</td>\n",
       "      <td>C26199</td>\n",
       "      <td>7316-87_401963</td>\n",
       "      <td>WGS</td>\n",
       "    </tr>\n",
       "    <tr>\n",
       "      <th>5</th>\n",
       "      <td>5c50bd69e4b07ea2c0aefefa</td>\n",
       "      <td>58dd83ba-1d8b-416e-9aac-29301216c3d9.strelka.v...</td>\n",
       "      <td>pkemmeren/genetic-interactions-in-pediatric-ca...</td>\n",
       "      <td>7316-2578</td>\n",
       "      <td>Alive</td>\n",
       "      <td>Not Hispanic or Latino</td>\n",
       "      <td>PT_06ERX8Z7</td>\n",
       "      <td>Female</td>\n",
       "      <td>Black or African American</td>\n",
       "      <td>Subependymal Giant Cell Astrocytoma (SEGA)</td>\n",
       "      <td>...</td>\n",
       "      <td>Ventricles</td>\n",
       "      <td>3635.0</td>\n",
       "      <td>588178.0</td>\n",
       "      <td>NaN</td>\n",
       "      <td>NaN</td>\n",
       "      <td>C714138</td>\n",
       "      <td>Subependymal Giant Cell Astrocytoma (SEGA)</td>\n",
       "      <td>C714138</td>\n",
       "      <td>7316-2578_588462</td>\n",
       "      <td>WGS</td>\n",
       "    </tr>\n",
       "    <tr>\n",
       "      <th>6</th>\n",
       "      <td>5c50bd69e4b07ea2c0aefefb</td>\n",
       "      <td>515772da-a356-4242-89ad-9b9c4e10ddd8.strelka.v...</td>\n",
       "      <td>pkemmeren/genetic-interactions-in-pediatric-ca...</td>\n",
       "      <td>7316-39</td>\n",
       "      <td>Alive</td>\n",
       "      <td>Not Hispanic or Latino</td>\n",
       "      <td>PT_MA0J8DSN</td>\n",
       "      <td>Male</td>\n",
       "      <td>White</td>\n",
       "      <td>Dysembryoplastic neuroepithelial tumor (DNET)</td>\n",
       "      <td>...</td>\n",
       "      <td>Frontal Lobe</td>\n",
       "      <td>1817.0</td>\n",
       "      <td>739818.0</td>\n",
       "      <td>NaN</td>\n",
       "      <td>NaN</td>\n",
       "      <td>C23001</td>\n",
       "      <td>Dysembryoplastic neuroepithelial tumor (DNET)</td>\n",
       "      <td>C23001</td>\n",
       "      <td>7316-39_739964</td>\n",
       "      <td>WGS</td>\n",
       "    </tr>\n",
       "    <tr>\n",
       "      <th>7</th>\n",
       "      <td>5c50bd69e4b07ea2c0aefefe</td>\n",
       "      <td>515b3138-b819-4ccd-9187-8f1e5835f8e1.strelka.v...</td>\n",
       "      <td>pkemmeren/genetic-interactions-in-pediatric-ca...</td>\n",
       "      <td>7316-278</td>\n",
       "      <td>Deceased-due to disease</td>\n",
       "      <td>Not Hispanic or Latino</td>\n",
       "      <td>PT_9S6WMQ92</td>\n",
       "      <td>Female</td>\n",
       "      <td>White</td>\n",
       "      <td>Medulloblastoma</td>\n",
       "      <td>...</td>\n",
       "      <td>Cerebellum/Posterior Fossa</td>\n",
       "      <td>5534.0</td>\n",
       "      <td>357637.0</td>\n",
       "      <td>NaN</td>\n",
       "      <td>NaN</td>\n",
       "      <td>C25830</td>\n",
       "      <td>Medulloblastoma</td>\n",
       "      <td>C25830</td>\n",
       "      <td>7316-278_257637</td>\n",
       "      <td>WGS</td>\n",
       "    </tr>\n",
       "    <tr>\n",
       "      <th>8</th>\n",
       "      <td>5c50bd69e4b07ea2c0aefeff</td>\n",
       "      <td>6a6db8a2-30ed-426f-90e5-dd0b6b2c719a.strelka.v...</td>\n",
       "      <td>pkemmeren/genetic-interactions-in-pediatric-ca...</td>\n",
       "      <td>7316-2609</td>\n",
       "      <td>Alive</td>\n",
       "      <td>Not Hispanic or Latino</td>\n",
       "      <td>PT_3PK66TJY</td>\n",
       "      <td>Female</td>\n",
       "      <td>White</td>\n",
       "      <td>Ependymoma</td>\n",
       "      <td>...</td>\n",
       "      <td>Cerebellum/Posterior Fossa</td>\n",
       "      <td>629.0</td>\n",
       "      <td>573091.0</td>\n",
       "      <td>NaN</td>\n",
       "      <td>NaN</td>\n",
       "      <td>C659034</td>\n",
       "      <td>Ependymoma</td>\n",
       "      <td>C659034</td>\n",
       "      <td>7316-2609</td>\n",
       "      <td>WGS</td>\n",
       "    </tr>\n",
       "    <tr>\n",
       "      <th>9</th>\n",
       "      <td>5c50bd69e4b07ea2c0aeff01</td>\n",
       "      <td>6c5bbbd5-b412-4515-890d-57a639161423.strelka.v...</td>\n",
       "      <td>pkemmeren/genetic-interactions-in-pediatric-ca...</td>\n",
       "      <td>7316-112</td>\n",
       "      <td>Alive</td>\n",
       "      <td>Hispanic or Latino</td>\n",
       "      <td>PT_K6CR9D53</td>\n",
       "      <td>Female</td>\n",
       "      <td>Other</td>\n",
       "      <td>Dysembryoplastic neuroepithelial tumor (DNET)</td>\n",
       "      <td>...</td>\n",
       "      <td>Temporal Lobe</td>\n",
       "      <td>2600.0</td>\n",
       "      <td>717030.0</td>\n",
       "      <td>NaN</td>\n",
       "      <td>NaN</td>\n",
       "      <td>C29643</td>\n",
       "      <td>Dysembryoplastic neuroepithelial tumor (DNET)</td>\n",
       "      <td>C29643</td>\n",
       "      <td>7316-112_717117</td>\n",
       "      <td>WGS</td>\n",
       "    </tr>\n",
       "    <tr>\n",
       "      <th>10</th>\n",
       "      <td>5c50bd69e4b07ea2c0aeff04</td>\n",
       "      <td>4356d5fa-8a01-49c0-9bbb-60f4a9b464ea.strelka.v...</td>\n",
       "      <td>pkemmeren/genetic-interactions-in-pediatric-ca...</td>\n",
       "      <td>7316-2665</td>\n",
       "      <td>Alive</td>\n",
       "      <td>Not Hispanic or Latino</td>\n",
       "      <td>PT_K8ZV7APT</td>\n",
       "      <td>Female</td>\n",
       "      <td>Black or African American</td>\n",
       "      <td>Neurofibroma/Plexiform</td>\n",
       "      <td>...</td>\n",
       "      <td>Other locations NOS</td>\n",
       "      <td>8538.0</td>\n",
       "      <td>711371.0</td>\n",
       "      <td>NaN</td>\n",
       "      <td>NaN</td>\n",
       "      <td>C15129</td>\n",
       "      <td>Neurofibroma/Plexiform</td>\n",
       "      <td>C15129</td>\n",
       "      <td>7316-2665_717135</td>\n",
       "      <td>WGS</td>\n",
       "    </tr>\n",
       "    <tr>\n",
       "      <th>11</th>\n",
       "      <td>5c50bd69e4b07ea2c0aeff05</td>\n",
       "      <td>62c5a279-c22e-4dad-911c-e6bb3efaf5aa.strelka.v...</td>\n",
       "      <td>pkemmeren/genetic-interactions-in-pediatric-ca...</td>\n",
       "      <td>7316-906</td>\n",
       "      <td>Alive</td>\n",
       "      <td>Not Hispanic or Latino</td>\n",
       "      <td>PT_9A6RPJ97</td>\n",
       "      <td>Female</td>\n",
       "      <td>White</td>\n",
       "      <td>Medulloblastoma</td>\n",
       "      <td>...</td>\n",
       "      <td>Cerebellum/Posterior Fossa; ;Spinal Cord- Lumb...</td>\n",
       "      <td>2994.0</td>\n",
       "      <td>478581.0</td>\n",
       "      <td>NaN</td>\n",
       "      <td>NaN</td>\n",
       "      <td>C217095</td>\n",
       "      <td>Medulloblastoma</td>\n",
       "      <td>C217095</td>\n",
       "      <td>7316-906_588279</td>\n",
       "      <td>WGS</td>\n",
       "    </tr>\n",
       "    <tr>\n",
       "      <th>12</th>\n",
       "      <td>5c50bd69e4b07ea2c0aeff08</td>\n",
       "      <td>564d58b7-7eba-41d9-86cd-ff6195a95f38.strelka.v...</td>\n",
       "      <td>pkemmeren/genetic-interactions-in-pediatric-ca...</td>\n",
       "      <td>7316-3070</td>\n",
       "      <td>Alive</td>\n",
       "      <td>Not Hispanic or Latino</td>\n",
       "      <td>PT_YVG4H0F1</td>\n",
       "      <td>Female</td>\n",
       "      <td>White</td>\n",
       "      <td>Craniopharyngioma</td>\n",
       "      <td>...</td>\n",
       "      <td>Suprasellar/Hypothalamic/Pituitary</td>\n",
       "      <td>5536.0</td>\n",
       "      <td>734680.0</td>\n",
       "      <td>NaN</td>\n",
       "      <td>NaN</td>\n",
       "      <td>C837261</td>\n",
       "      <td>Craniopharyngioma</td>\n",
       "      <td>C837261</td>\n",
       "      <td>7316-3070_734513</td>\n",
       "      <td>WGS</td>\n",
       "    </tr>\n",
       "    <tr>\n",
       "      <th>13</th>\n",
       "      <td>5c50bd69e4b07ea2c0aeff09</td>\n",
       "      <td>6e46856e-86e4-496f-a1b6-8b11221dd19a.strelka.v...</td>\n",
       "      <td>pkemmeren/genetic-interactions-in-pediatric-ca...</td>\n",
       "      <td>7316-3147</td>\n",
       "      <td>Alive</td>\n",
       "      <td>Hispanic or Latino</td>\n",
       "      <td>PT_RXT6KRR6</td>\n",
       "      <td>Female</td>\n",
       "      <td>White</td>\n",
       "      <td>Ganglioneuroblastoma</td>\n",
       "      <td>...</td>\n",
       "      <td>Occipital Lobe;Parietal Lobe</td>\n",
       "      <td>1218.0</td>\n",
       "      <td>725396.0</td>\n",
       "      <td>NaN</td>\n",
       "      <td>NaN</td>\n",
       "      <td>C952389</td>\n",
       "      <td>Ganglioneuroblastoma</td>\n",
       "      <td>C952389</td>\n",
       "      <td>7316-3147_724091</td>\n",
       "      <td>WGS</td>\n",
       "    </tr>\n",
       "  </tbody>\n",
       "</table>\n",
       "<p>14 rows × 27 columns</p>\n",
       "</div>"
      ],
      "text/plain": [
       "                          id  \\\n",
       "0   5c50bd69e4b07ea2c0aefef0   \n",
       "1   5c50bd69e4b07ea2c0aefef2   \n",
       "2   5c50bd69e4b07ea2c0aefef3   \n",
       "3   5c50bd69e4b07ea2c0aefef5   \n",
       "4   5c50bd69e4b07ea2c0aefef8   \n",
       "5   5c50bd69e4b07ea2c0aefefa   \n",
       "6   5c50bd69e4b07ea2c0aefefb   \n",
       "7   5c50bd69e4b07ea2c0aefefe   \n",
       "8   5c50bd69e4b07ea2c0aefeff   \n",
       "9   5c50bd69e4b07ea2c0aeff01   \n",
       "10  5c50bd69e4b07ea2c0aeff04   \n",
       "11  5c50bd69e4b07ea2c0aeff05   \n",
       "12  5c50bd69e4b07ea2c0aeff08   \n",
       "13  5c50bd69e4b07ea2c0aeff09   \n",
       "\n",
       "                                                 name  \\\n",
       "0   558995e5-c2cb-441c-a1ea-dcb4d03c50b2.strelka.v...   \n",
       "1   4e58f03f-8347-4375-b5ab-36161623d7bd.strelka.v...   \n",
       "2   5bbd8fb5-bc21-4e22-be3f-5d82ab408cd4.strelka.v...   \n",
       "3   55a0b44f-9178-4bce-bef8-b9c2debc1af2.strelka.v...   \n",
       "4   63245568-be8e-47e8-8b34-8b42b2f5ea6c.strelka.v...   \n",
       "5   58dd83ba-1d8b-416e-9aac-29301216c3d9.strelka.v...   \n",
       "6   515772da-a356-4242-89ad-9b9c4e10ddd8.strelka.v...   \n",
       "7   515b3138-b819-4ccd-9187-8f1e5835f8e1.strelka.v...   \n",
       "8   6a6db8a2-30ed-426f-90e5-dd0b6b2c719a.strelka.v...   \n",
       "9   6c5bbbd5-b412-4515-890d-57a639161423.strelka.v...   \n",
       "10  4356d5fa-8a01-49c0-9bbb-60f4a9b464ea.strelka.v...   \n",
       "11  62c5a279-c22e-4dad-911c-e6bb3efaf5aa.strelka.v...   \n",
       "12  564d58b7-7eba-41d9-86cd-ff6195a95f38.strelka.v...   \n",
       "13  6e46856e-86e4-496f-a1b6-8b11221dd19a.strelka.v...   \n",
       "\n",
       "                                              project CBTTC Event ID  \\\n",
       "0   pkemmeren/genetic-interactions-in-pediatric-ca...        7316-75   \n",
       "1   pkemmeren/genetic-interactions-in-pediatric-ca...      7316-2005   \n",
       "2   pkemmeren/genetic-interactions-in-pediatric-ca...        7316-99   \n",
       "3   pkemmeren/genetic-interactions-in-pediatric-ca...      7316-2322   \n",
       "4   pkemmeren/genetic-interactions-in-pediatric-ca...        7316-87   \n",
       "5   pkemmeren/genetic-interactions-in-pediatric-ca...      7316-2578   \n",
       "6   pkemmeren/genetic-interactions-in-pediatric-ca...        7316-39   \n",
       "7   pkemmeren/genetic-interactions-in-pediatric-ca...       7316-278   \n",
       "8   pkemmeren/genetic-interactions-in-pediatric-ca...      7316-2609   \n",
       "9   pkemmeren/genetic-interactions-in-pediatric-ca...       7316-112   \n",
       "10  pkemmeren/genetic-interactions-in-pediatric-ca...      7316-2665   \n",
       "11  pkemmeren/genetic-interactions-in-pediatric-ca...       7316-906   \n",
       "12  pkemmeren/genetic-interactions-in-pediatric-ca...      7316-3070   \n",
       "13  pkemmeren/genetic-interactions-in-pediatric-ca...      7316-3147   \n",
       "\n",
       "               vital_status               ethnicity Kids First Participant ID  \\\n",
       "0                     Alive  Not Hispanic or Latino               PT_Y0SNEN8Y   \n",
       "1                     Alive  Not Hispanic or Latino               PT_CGWPWSXM   \n",
       "2   Deceased-due to disease  Not Hispanic or Latino               PT_SCRJF38G   \n",
       "3   Deceased-due to disease  Not Hispanic or Latino               PT_V8714N9H   \n",
       "4                     Alive  Not Hispanic or Latino               PT_WE1CHTWK   \n",
       "5                     Alive  Not Hispanic or Latino               PT_06ERX8Z7   \n",
       "6                     Alive  Not Hispanic or Latino               PT_MA0J8DSN   \n",
       "7   Deceased-due to disease  Not Hispanic or Latino               PT_9S6WMQ92   \n",
       "8                     Alive  Not Hispanic or Latino               PT_3PK66TJY   \n",
       "9                     Alive      Hispanic or Latino               PT_K6CR9D53   \n",
       "10                    Alive  Not Hispanic or Latino               PT_K8ZV7APT   \n",
       "11                    Alive  Not Hispanic or Latino               PT_9A6RPJ97   \n",
       "12                    Alive  Not Hispanic or Latino               PT_YVG4H0F1   \n",
       "13                    Alive      Hispanic or Latino               PT_RXT6KRR6   \n",
       "\n",
       "    gender                       race  \\\n",
       "0     Male                      White   \n",
       "1     Male                      White   \n",
       "2   Female                      White   \n",
       "3     Male                      White   \n",
       "4     Male                      White   \n",
       "5   Female  Black or African American   \n",
       "6     Male                      White   \n",
       "7   Female                      White   \n",
       "8   Female                      White   \n",
       "9   Female                      Other   \n",
       "10  Female  Black or African American   \n",
       "11  Female                      White   \n",
       "12  Female                      White   \n",
       "13  Female                      White   \n",
       "\n",
       "                                     disease_type          ...            \\\n",
       "0   Dysembryoplastic neuroepithelial tumor (DNET)          ...             \n",
       "1                                   Ganglioglioma          ...             \n",
       "2                                 Medulloblastoma          ...             \n",
       "3                                 Medulloblastoma          ...             \n",
       "4              Supratentorial or Spinal Cord PNET          ...             \n",
       "5      Subependymal Giant Cell Astrocytoma (SEGA)          ...             \n",
       "6   Dysembryoplastic neuroepithelial tumor (DNET)          ...             \n",
       "7                                 Medulloblastoma          ...             \n",
       "8                                      Ependymoma          ...             \n",
       "9   Dysembryoplastic neuroepithelial tumor (DNET)          ...             \n",
       "10                         Neurofibroma/Plexiform          ...             \n",
       "11                                Medulloblastoma          ...             \n",
       "12                              Craniopharyngioma          ...             \n",
       "13                           Ganglioneuroblastoma          ...             \n",
       "\n",
       "                                         primary_site age_at_diagnosis  \\\n",
       "0                                        Frontal Lobe           3830.0   \n",
       "1                                       Temporal Lobe            600.0   \n",
       "2                          Cerebellum/Posterior Fossa            715.0   \n",
       "3                          Cerebellum/Posterior Fossa            761.0   \n",
       "4                                        Frontal Lobe            523.0   \n",
       "5                                          Ventricles           3635.0   \n",
       "6                                        Frontal Lobe           1817.0   \n",
       "7                          Cerebellum/Posterior Fossa           5534.0   \n",
       "8                          Cerebellum/Posterior Fossa            629.0   \n",
       "9                                       Temporal Lobe           2600.0   \n",
       "10                                Other locations NOS           8538.0   \n",
       "11  Cerebellum/Posterior Fossa; ;Spinal Cord- Lumb...           2994.0   \n",
       "12                 Suprasellar/Hypothalamic/Pituitary           5536.0   \n",
       "13                       Occipital Lobe;Parietal Lobe           1218.0   \n",
       "\n",
       "   aliquot_id library_id reference_genome  case_id  \\\n",
       "0    739791.0        NaN              NaN   C18696   \n",
       "1    573079.0        NaN              NaN  C412542   \n",
       "2    612699.0        NaN              NaN   C18081   \n",
       "3    563957.0        NaN              NaN  C647349   \n",
       "4     62332.0        NaN              NaN   C26199   \n",
       "5    588178.0        NaN              NaN  C714138   \n",
       "6    739818.0        NaN              NaN   C23001   \n",
       "7    357637.0        NaN              NaN   C25830   \n",
       "8    573091.0        NaN              NaN  C659034   \n",
       "9    717030.0        NaN              NaN   C29643   \n",
       "10   711371.0        NaN              NaN   C15129   \n",
       "11   478581.0        NaN              NaN  C217095   \n",
       "12   734680.0        NaN              NaN  C837261   \n",
       "13   725396.0        NaN              NaN  C952389   \n",
       "\n",
       "                                        Diagnosis CBTTC Subject ID  \\\n",
       "0   Dysembryoplastic neuroepithelial tumor (DNET)           C18696   \n",
       "1                                   Ganglioglioma          C412542   \n",
       "2                                 Medulloblastoma           C18081   \n",
       "3                                 Medulloblastoma          C647349   \n",
       "4              Supratentorial or Spinal Cord PNET           C26199   \n",
       "5      Subependymal Giant Cell Astrocytoma (SEGA)          C714138   \n",
       "6   Dysembryoplastic neuroepithelial tumor (DNET)           C23001   \n",
       "7                                 Medulloblastoma           C25830   \n",
       "8                                      Ependymoma          C659034   \n",
       "9   Dysembryoplastic neuroepithelial tumor (DNET)           C29643   \n",
       "10                         Neurofibroma/Plexiform           C15129   \n",
       "11                                Medulloblastoma          C217095   \n",
       "12                              Craniopharyngioma          C837261   \n",
       "13                           Ganglioneuroblastoma          C952389   \n",
       "\n",
       "    CBTTC Aliquot ID   experimental_strategy  \n",
       "0      7316-75_739949                    WGS  \n",
       "1           7316-2005                    WGS  \n",
       "2      7316-99_608923                    WGS  \n",
       "3           7316-2322                    WGS  \n",
       "4      7316-87_401963                    WGS  \n",
       "5    7316-2578_588462                    WGS  \n",
       "6      7316-39_739964                    WGS  \n",
       "7     7316-278_257637                    WGS  \n",
       "8           7316-2609                    WGS  \n",
       "9     7316-112_717117                    WGS  \n",
       "10   7316-2665_717135                    WGS  \n",
       "11    7316-906_588279                    WGS  \n",
       "12   7316-3070_734513                    WGS  \n",
       "13   7316-3147_724091                    WGS  \n",
       "\n",
       "[14 rows x 27 columns]"
      ]
     },
     "execution_count": 2,
     "metadata": {},
     "output_type": "execute_result"
    }
   ],
   "source": [
    "metadata = pd.read_csv('CBTTC_metadata.csv')\n",
    "metadata.head(14)"
   ]
  },
  {
   "cell_type": "markdown",
   "metadata": {},
   "source": [
    "Which diagnoses are present in the dataset?"
   ]
  },
  {
   "cell_type": "code",
   "execution_count": 10,
   "metadata": {},
   "outputs": [
    {
     "data": {
      "text/plain": [
       "0         Dysembryoplastic neuroepithelial tumor (DNET)\n",
       "1                                         Ganglioglioma\n",
       "2                                       Medulloblastoma\n",
       "3                                       Medulloblastoma\n",
       "4                    Supratentorial or Spinal Cord PNET\n",
       "5            Subependymal Giant Cell Astrocytoma (SEGA)\n",
       "6         Dysembryoplastic neuroepithelial tumor (DNET)\n",
       "7                                       Medulloblastoma\n",
       "8                                            Ependymoma\n",
       "9         Dysembryoplastic neuroepithelial tumor (DNET)\n",
       "10                               Neurofibroma/Plexiform\n",
       "11                                      Medulloblastoma\n",
       "12                                    Craniopharyngioma\n",
       "13                                 Ganglioneuroblastoma\n",
       "14        Low-grade glioma/astrocytoma (WHO grade I/II)\n",
       "15        Low-grade glioma/astrocytoma (WHO grade I/II)\n",
       "16        Low-grade glioma/astrocytoma (WHO grade I/II)\n",
       "17                             Choroid plexus carcinoma\n",
       "18                                    Craniopharyngioma\n",
       "19        Low-grade glioma/astrocytoma (WHO grade I/II)\n",
       "20        Low-grade glioma/astrocytoma (WHO grade I/II)\n",
       "21                                           Ependymoma\n",
       "22        Low-grade glioma/astrocytoma (WHO grade I/II)\n",
       "23        Low-grade glioma/astrocytoma (WHO grade I/II)\n",
       "24        Low-grade glioma/astrocytoma (WHO grade I/II)\n",
       "25        Dysembryoplastic neuroepithelial tumor (DNET)\n",
       "26        Dysembryoplastic neuroepithelial tumor (DNET)\n",
       "27                                           Ependymoma\n",
       "28     High-grade glioma/astrocytoma (WHO grade III/IV)\n",
       "29                               Neurofibroma/Plexiform\n",
       "                             ...                       \n",
       "916       Low-grade glioma/astrocytoma (WHO grade I/II)\n",
       "917    High-grade glioma/astrocytoma (WHO grade III/IV)\n",
       "918       Low-grade glioma/astrocytoma (WHO grade I/II)\n",
       "919                                       Ganglioglioma\n",
       "920                                     Medulloblastoma\n",
       "921                                   Dysplasia/Gliosis\n",
       "922                                          Meningioma\n",
       "923                                     Medulloblastoma\n",
       "924       Low-grade glioma/astrocytoma (WHO grade I/II)\n",
       "925                                          Meningioma\n",
       "926                                          Ependymoma\n",
       "927       Low-grade glioma/astrocytoma (WHO grade I/II)\n",
       "928             Atypical Teratoid Rhabdoid Tumor (ATRT)\n",
       "929                                   Craniopharyngioma\n",
       "930       Low-grade glioma/astrocytoma (WHO grade I/II)\n",
       "931       Dysembryoplastic neuroepithelial tumor (DNET)\n",
       "932                                     Medulloblastoma\n",
       "933                                          Meningioma\n",
       "934                                     Medulloblastoma\n",
       "935                                       Ganglioglioma\n",
       "936     Malignant peripheral nerve sheath tumor (MPNST)\n",
       "937                                   Craniopharyngioma\n",
       "938                                   Dysplasia/Gliosis\n",
       "939                                          Ependymoma\n",
       "940                                               Other\n",
       "941                                     Medulloblastoma\n",
       "942                                     Medulloblastoma\n",
       "943                  Supratentorial or Spinal Cord PNET\n",
       "944                                     Medulloblastoma\n",
       "945       Low-grade glioma/astrocytoma (WHO grade I/II)\n",
       "Name: Diagnosis, Length: 946, dtype: object"
      ]
     },
     "execution_count": 10,
     "metadata": {},
     "output_type": "execute_result"
    }
   ],
   "source": [
    "metadata['Diagnosis']"
   ]
  },
  {
   "cell_type": "markdown",
   "metadata": {},
   "source": [
    "How many of each diagnoses are present in the dataset?"
   ]
  },
  {
   "cell_type": "code",
   "execution_count": 13,
   "metadata": {
    "scrolled": true
   },
   "outputs": [
    {
     "data": {
      "text/plain": [
       "Diagnosis\n",
       "Low-grade glioma/astrocytoma (WHO grade I/II)                                     248\n",
       "Medulloblastoma                                                                   112\n",
       "High-grade glioma/astrocytoma (WHO grade III/IV)                                  100\n",
       "Ependymoma                                                                         82\n",
       "Ganglioglioma                                                                      47\n",
       "Craniopharyngioma                                                                  37\n",
       "Other                                                                              37\n",
       "Meningioma                                                                         32\n",
       "Atypical Teratoid Rhabdoid Tumor (ATRT)                                            31\n",
       "Dysembryoplastic neuroepithelial tumor (DNET)                                      25\n",
       "Neurofibroma/Plexiform                                                             18\n",
       "Schwannoma                                                                         17\n",
       "Supratentorial or Spinal Cord PNET                                                 16\n",
       "Choroid plexus papilloma                                                           15\n",
       "Dysplasia/Gliosis                                                                  14\n",
       "Ewings Sarcoma                                                                      7\n",
       "Chordoma                                                                            7\n",
       "Brainstem glioma- Diffuse intrinsic pontine glioma                                  6\n",
       "Teratoma                                                                            6\n",
       "Pineoblastoma                                                                       5\n",
       "Choroid plexus carcinoma                                                            4\n",
       "Ganglioneuroblastoma                                                                4\n",
       "Germinoma                                                                           4\n",
       "Hemangioblastoma                                                                    4\n",
       "Langerhans Cell histiocytosis                                                       4\n",
       "Malignant peripheral nerve sheath tumor (MPNST)                                     4\n",
       "Metastatic secondary tumors                                                         4\n",
       "Adenoma                                                                             3\n",
       "Neurocytoma                                                                         3\n",
       "Neuroblastoma                                                                       3\n",
       "Glial-neuronal tumor NOS                                                            3\n",
       "Subependymal Giant Cell Astrocytoma (SEGA)                                          2\n",
       "Sarcoma                                                                             2\n",
       "Cavernoma                                                                           2\n",
       "Rhabdomyosarcoma                                                                    2\n",
       "Oligodendroglioma                                                                   2\n",
       "Gliomatosis Cerebri                                                                 2\n",
       "Dysembryoplastic neuroepithelial tumor (DNET);Dysplasia/Gliosis;;Ganglioglioma      1\n",
       "Non-germinomatous germ cell tumor;Teratoma                                          1\n",
       "Dysplasia/Gliosis;Glial-neuronal tumor NOS                                          1\n",
       "Primary CNS lymphoma                                                                1\n",
       "Metastatic secondary tumors;Neuroblastoma                                           1\n",
       "Ganglioglioma;Low-grade glioma/astrocytoma (WHO grade I/II)                         1\n",
       "Low-grade glioma/astrocytoma (WHO grade I/II);Other                                 1\n",
       "Germinoma;Teratoma                                                                  1\n",
       "Dysembryoplastic neuroepithelial tumor (DNET);Ganglioglioma                         1\n",
       "Name: Diagnosis, dtype: int64"
      ]
     },
     "execution_count": 13,
     "metadata": {},
     "output_type": "execute_result"
    }
   ],
   "source": [
    "metadata.groupby('Diagnosis')['Diagnosis'].agg('count').sort_values(ascending=False)"
   ]
  },
  {
   "cell_type": "markdown",
   "metadata": {},
   "source": [
    "How many of each disease are present in th dataset if you look at disease_type instead of diagnosis?"
   ]
  },
  {
   "cell_type": "code",
   "execution_count": 8,
   "metadata": {
    "scrolled": true
   },
   "outputs": [
    {
     "data": {
      "text/plain": [
       "disease_type\n",
       "Low-grade glioma/astrocytoma (WHO grade I/II)                                     252\n",
       "Medulloblastoma                                                                   113\n",
       "High-grade glioma/astrocytoma (WHO grade III/IV)                                  100\n",
       "Ependymoma                                                                         82\n",
       "Ganglioglioma                                                                      48\n",
       "Other                                                                              41\n",
       "Craniopharyngioma                                                                  39\n",
       "Meningioma                                                                         32\n",
       "Atypical Teratoid Rhabdoid Tumor (ATRT)                                            31\n",
       "Dysembryoplastic neuroepithelial tumor (DNET)                                      26\n",
       "Neurofibroma/Plexiform                                                             20\n",
       "Schwannoma                                                                         18\n",
       "Supratentorial or Spinal Cord PNET                                                 17\n",
       "Choroid plexus papilloma                                                           15\n",
       "Dysplasia/Gliosis                                                                  14\n",
       "Teratoma                                                                            8\n",
       "Ewings Sarcoma                                                                      7\n",
       "Chordoma                                                                            7\n",
       "Brainstem glioma- Diffuse intrinsic pontine glioma                                  7\n",
       "Metastatic secondary tumors                                                         5\n",
       "Malignant peripheral nerve sheath tumor (MPNST)                                     5\n",
       "Pineoblastoma                                                                       5\n",
       "Germinoma                                                                           4\n",
       "Choroid plexus carcinoma                                                            4\n",
       "Ganglioneuroblastoma                                                                4\n",
       "Hemangioblastoma                                                                    4\n",
       "Adenoma                                                                             4\n",
       "Langerhans Cell histiocytosis                                                       4\n",
       "Neuroblastoma                                                                       3\n",
       "Glial-neuronal tumor NOS                                                            3\n",
       "Neurocytoma                                                                         3\n",
       "Oligodendroglioma                                                                   2\n",
       "Gliomatosis Cerebri                                                                 2\n",
       "Subependymal Giant Cell Astrocytoma (SEGA)                                          2\n",
       "Sarcoma                                                                             2\n",
       "Cavernoma                                                                           2\n",
       "Rhabdomyosarcoma                                                                    2\n",
       "Primary CNS lymphoma                                                                1\n",
       "Germinoma;Teratoma                                                                  1\n",
       "Non-germinomatous germ cell tumor;Teratoma                                          1\n",
       "Dysembryoplastic neuroepithelial tumor (DNET);Ganglioglioma                         1\n",
       "Dysplasia/Gliosis;Glial-neuronal tumor NOS                                          1\n",
       "Metastatic secondary tumors;Neuroblastoma                                           1\n",
       "Low-grade glioma/astrocytoma (WHO grade I/II);Other                                 1\n",
       "Ganglioglioma;Low-grade glioma/astrocytoma (WHO grade I/II)                         1\n",
       "Dysembryoplastic neuroepithelial tumor (DNET);Dysplasia/Gliosis;;Ganglioglioma      1\n",
       "Name: disease_type, dtype: int64"
      ]
     },
     "execution_count": 8,
     "metadata": {},
     "output_type": "execute_result"
    }
   ],
   "source": [
    "metadata.groupby('disease_type')['disease_type'].agg('count').sort_values(ascending=False)"
   ]
  },
  {
   "cell_type": "markdown",
   "metadata": {},
   "source": [
    "How many samples are from the 20 most prevalent diagnoses?"
   ]
  },
  {
   "cell_type": "code",
   "execution_count": 63,
   "metadata": {},
   "outputs": [
    {
     "data": {
      "image/png": "[encoded data removed]",
      "text/plain": [
       "<Figure size 432x288 with 1 Axes>"
      ]
     },
     "metadata": {
      "needs_background": "light"
     },
     "output_type": "display_data"
    }
   ],
   "source": [
    "metadata.groupby('Diagnosis')['Diagnosis'].agg('count').sort_values(ascending=False).head(20).sort_values(ascending=True).plot.barh(width=1)\n",
    "plt.show()"
   ]
  },
  {
   "cell_type": "markdown",
   "metadata": {},
   "source": [
    "How many samples are from the 20 most prevalent disease types? Is this plot different than the one above?"
   ]
  },
  {
   "cell_type": "code",
   "execution_count": 64,
   "metadata": {},
   "outputs": [
    {
     "data": {
      "image/png": "[encoded data removed]",
      "text/plain": [
       "<Figure size 432x288 with 1 Axes>"
      ]
     },
     "metadata": {
      "needs_background": "light"
     },
     "output_type": "display_data"
    }
   ],
   "source": [
    "metadata.groupby('disease_type')['disease_type'].agg('count').sort_values(ascending=False).head(20).sort_values(ascending=True).plot.barh(width=1)\n",
    "plt.show()"
   ]
  },
  {
   "cell_type": "markdown",
   "metadata": {},
   "source": [
    "How many samples are there from each age?"
   ]
  },
  {
   "cell_type": "code",
   "execution_count": 3,
   "metadata": {},
   "outputs": [
    {
     "data": {
      "text/plain": [
       "0     53\n",
       "1     60\n",
       "2     56\n",
       "3     57\n",
       "4     48\n",
       "5     44\n",
       "6     54\n",
       "7     50\n",
       "8     39\n",
       "9     53\n",
       "10    48\n",
       "11    51\n",
       "12    50\n",
       "13    46\n",
       "14    30\n",
       "15    31\n",
       "16    40\n",
       "17    36\n",
       "18    19\n",
       "19    16\n",
       "20    17\n",
       "21     7\n",
       "22    13\n",
       "23     7\n",
       "25     2\n",
       "26     5\n",
       "27     2\n",
       "30     2\n",
       "31     1\n",
       "36     1\n",
       "dtype: int64"
      ]
     },
     "execution_count": 3,
     "metadata": {},
     "output_type": "execute_result"
    },
    {
     "data": {
      "image/png": "[encoded data removed]",
      "text/plain": [
       "<Figure size 432x288 with 1 Axes>"
      ]
     },
     "metadata": {
      "needs_background": "light"
     },
     "output_type": "display_data"
    }
   ],
   "source": [
    "import math\n",
    "agelist = []\n",
    "for x in metadata['age_at_diagnosis']/365:\n",
    "    if (not math.isnan(x)):\n",
    "        agelist.append(math.trunc(x))\n",
    "age_series = pd.Series(agelist)\n",
    "age_series.value_counts().sort_index().plot.bar()\n",
    "plt.xlabel(\"Age of the patient\")\n",
    "plt.ylabel(\"Amount of patients\")\n",
    "age_series.value_counts().sort_index()"
   ]
  },
  {
   "cell_type": "markdown",
   "metadata": {},
   "source": [
    "What is the age distribution in the DKFZ dataset?"
   ]
  },
  {
   "cell_type": "code",
   "execution_count": 91,
   "metadata": {},
   "outputs": [
    {
     "data": {
      "text/plain": [
       "<matplotlib.axes._subplots.AxesSubplot at 0x2e4663afc88>"
      ]
     },
     "execution_count": 91,
     "metadata": {},
     "output_type": "execute_result"
    },
    {
     "data": {
      "image/png": "[encoded data removed]",
      "text/plain": [
       "<Figure size 432x288 with 1 Axes>"
      ]
     },
     "metadata": {
      "needs_background": "light"
     },
     "output_type": "display_data"
    }
   ],
   "source": [
    "import math\n",
    "dkfzdata = pd.read_table('dkfz_metadata3.xlsx', sep = \"\\t\")\n",
    "dkfzage = []\n",
    "dkfzdata.head(14)\n",
    "for x in dkfzdata['Age']:\n",
    "    if isinstance(x, str):\n",
    "        age = float(x.replace(\",\", \".\"))\n",
    "        dkfzage.append(math.trunc(age))\n",
    "dkfzage_series = pd.Series(dkfzage)\n",
    "dkfzage_series.value_counts().sort_index().plot.bar()\n"
   ]
  },
  {
   "cell_type": "markdown",
   "metadata": {},
   "source": [
    "In which samples is diagnosis not equal to disease_type?"
   ]
  },
  {
   "cell_type": "code",
   "execution_count": 61,
   "metadata": {},
   "outputs": [
    {
     "data": {
      "text/html": [
       "<div>\n",
       "<style scoped>\n",
       "    .dataframe tbody tr th:only-of-type {\n",
       "        vertical-align: middle;\n",
       "    }\n",
       "\n",
       "    .dataframe tbody tr th {\n",
       "        vertical-align: top;\n",
       "    }\n",
       "\n",
       "    .dataframe thead th {\n",
       "        text-align: right;\n",
       "    }\n",
       "</style>\n",
       "<table border=\"1\" class=\"dataframe\">\n",
       "  <thead>\n",
       "    <tr style=\"text-align: right;\">\n",
       "      <th></th>\n",
       "      <th>Diagnosis</th>\n",
       "      <th>disease_type</th>\n",
       "    </tr>\n",
       "  </thead>\n",
       "  <tbody>\n",
       "    <tr>\n",
       "      <th>45</th>\n",
       "      <td>NaN</td>\n",
       "      <td>Other</td>\n",
       "    </tr>\n",
       "    <tr>\n",
       "      <th>47</th>\n",
       "      <td>NaN</td>\n",
       "      <td>Schwannoma</td>\n",
       "    </tr>\n",
       "    <tr>\n",
       "      <th>53</th>\n",
       "      <td>NaN</td>\n",
       "      <td>Neurofibroma/Plexiform</td>\n",
       "    </tr>\n",
       "    <tr>\n",
       "      <th>87</th>\n",
       "      <td>NaN</td>\n",
       "      <td>Craniopharyngioma</td>\n",
       "    </tr>\n",
       "    <tr>\n",
       "      <th>133</th>\n",
       "      <td>NaN</td>\n",
       "      <td>Malignant peripheral nerve sheath tumor (MPNST)</td>\n",
       "    </tr>\n",
       "    <tr>\n",
       "      <th>159</th>\n",
       "      <td>NaN</td>\n",
       "      <td>Adenoma</td>\n",
       "    </tr>\n",
       "    <tr>\n",
       "      <th>171</th>\n",
       "      <td>NaN</td>\n",
       "      <td>Dysembryoplastic neuroepithelial tumor (DNET)</td>\n",
       "    </tr>\n",
       "    <tr>\n",
       "      <th>182</th>\n",
       "      <td>NaN</td>\n",
       "      <td>Low-grade glioma/astrocytoma (WHO grade I/II)</td>\n",
       "    </tr>\n",
       "    <tr>\n",
       "      <th>226</th>\n",
       "      <td>NaN</td>\n",
       "      <td>Other</td>\n",
       "    </tr>\n",
       "    <tr>\n",
       "      <th>241</th>\n",
       "      <td>NaN</td>\n",
       "      <td>Teratoma</td>\n",
       "    </tr>\n",
       "    <tr>\n",
       "      <th>308</th>\n",
       "      <td>NaN</td>\n",
       "      <td>Medulloblastoma</td>\n",
       "    </tr>\n",
       "    <tr>\n",
       "      <th>335</th>\n",
       "      <td>NaN</td>\n",
       "      <td>Low-grade glioma/astrocytoma (WHO grade I/II)</td>\n",
       "    </tr>\n",
       "    <tr>\n",
       "      <th>351</th>\n",
       "      <td>NaN</td>\n",
       "      <td>Supratentorial or Spinal Cord PNET</td>\n",
       "    </tr>\n",
       "    <tr>\n",
       "      <th>365</th>\n",
       "      <td>NaN</td>\n",
       "      <td>Low-grade glioma/astrocytoma (WHO grade I/II)</td>\n",
       "    </tr>\n",
       "    <tr>\n",
       "      <th>402</th>\n",
       "      <td>NaN</td>\n",
       "      <td>Other</td>\n",
       "    </tr>\n",
       "    <tr>\n",
       "      <th>423</th>\n",
       "      <td>NaN</td>\n",
       "      <td>Ganglioglioma</td>\n",
       "    </tr>\n",
       "    <tr>\n",
       "      <th>452</th>\n",
       "      <td>NaN</td>\n",
       "      <td>Craniopharyngioma</td>\n",
       "    </tr>\n",
       "    <tr>\n",
       "      <th>460</th>\n",
       "      <td>NaN</td>\n",
       "      <td>Other</td>\n",
       "    </tr>\n",
       "    <tr>\n",
       "      <th>462</th>\n",
       "      <td>NaN</td>\n",
       "      <td>Low-grade glioma/astrocytoma (WHO grade I/II)</td>\n",
       "    </tr>\n",
       "    <tr>\n",
       "      <th>665</th>\n",
       "      <td>NaN</td>\n",
       "      <td>Metastatic secondary tumors</td>\n",
       "    </tr>\n",
       "    <tr>\n",
       "      <th>666</th>\n",
       "      <td>NaN</td>\n",
       "      <td>Brainstem glioma- Diffuse intrinsic pontine gl...</td>\n",
       "    </tr>\n",
       "    <tr>\n",
       "      <th>716</th>\n",
       "      <td>NaN</td>\n",
       "      <td>Neurofibroma/Plexiform</td>\n",
       "    </tr>\n",
       "    <tr>\n",
       "      <th>738</th>\n",
       "      <td>NaN</td>\n",
       "      <td>Teratoma</td>\n",
       "    </tr>\n",
       "  </tbody>\n",
       "</table>\n",
       "</div>"
      ],
      "text/plain": [
       "    Diagnosis                                       disease_type\n",
       "45        NaN                                              Other\n",
       "47        NaN                                         Schwannoma\n",
       "53        NaN                             Neurofibroma/Plexiform\n",
       "87        NaN                                  Craniopharyngioma\n",
       "133       NaN    Malignant peripheral nerve sheath tumor (MPNST)\n",
       "159       NaN                                            Adenoma\n",
       "171       NaN      Dysembryoplastic neuroepithelial tumor (DNET)\n",
       "182       NaN      Low-grade glioma/astrocytoma (WHO grade I/II)\n",
       "226       NaN                                              Other\n",
       "241       NaN                                           Teratoma\n",
       "308       NaN                                    Medulloblastoma\n",
       "335       NaN      Low-grade glioma/astrocytoma (WHO grade I/II)\n",
       "351       NaN                 Supratentorial or Spinal Cord PNET\n",
       "365       NaN      Low-grade glioma/astrocytoma (WHO grade I/II)\n",
       "402       NaN                                              Other\n",
       "423       NaN                                      Ganglioglioma\n",
       "452       NaN                                  Craniopharyngioma\n",
       "460       NaN                                              Other\n",
       "462       NaN      Low-grade glioma/astrocytoma (WHO grade I/II)\n",
       "665       NaN                        Metastatic secondary tumors\n",
       "666       NaN  Brainstem glioma- Diffuse intrinsic pontine gl...\n",
       "716       NaN                             Neurofibroma/Plexiform\n",
       "738       NaN                                           Teratoma"
      ]
     },
     "execution_count": 61,
     "metadata": {},
     "output_type": "execute_result"
    }
   ],
   "source": [
    "diagnosis_ne_diseasetype = metadata[(metadata['Diagnosis'] != metadata['disease_type'])]\n",
    "diagnosis_ne_diseasetype [['Diagnosis', 'disease_type']]"
   ]
  },
  {
   "cell_type": "markdown",
   "metadata": {},
   "source": [
    "How many male/female are there in this dataset?"
   ]
  },
  {
   "cell_type": "code",
   "execution_count": 68,
   "metadata": {},
   "outputs": [
    {
     "data": {
      "text/plain": [
       "gender\n",
       "Female          443\n",
       "Male            501\n",
       "Not Reported      2\n",
       "Name: gender, dtype: int64"
      ]
     },
     "execution_count": 68,
     "metadata": {},
     "output_type": "execute_result"
    }
   ],
   "source": [
    "metadata.groupby('gender')['gender'].agg('count')"
   ]
  },
  {
   "cell_type": "markdown",
   "metadata": {},
   "source": [
    "How many procent is male/female?"
   ]
  },
  {
   "cell_type": "code",
   "execution_count": 84,
   "metadata": {},
   "outputs": [
    {
     "name": "stdout",
     "output_type": "stream",
     "text": [
      "Female:  46.9\n",
      "Male:  53.1\n"
     ]
    }
   ],
   "source": [
    "female = metadata[(metadata['gender'] == 'Female')]['gender'].count()\n",
    "male = metadata[(metadata['gender'] == 'Male')]['gender'].count()\n",
    "total = female + male\n",
    "print(\"Female: \", round((female/total)*100,1))\n",
    "print(\"Male: \", round((male/total)*100, 1))"
   ]
  },
  {
   "cell_type": "markdown",
   "metadata": {},
   "source": [
    "Is CBTTC Event ID unique, or can CBTTC Event ID be more prevalent in the dataset?"
   ]
  },
  {
   "cell_type": "code",
   "execution_count": 3,
   "metadata": {},
   "outputs": [
    {
     "name": "stdout",
     "output_type": "stream",
     "text": [
      "Total number of samples: 946\n",
      "Unique CBTTC Event IDs: 895\n"
     ]
    }
   ],
   "source": [
    "eventlist = []\n",
    "for x in metadata['CBTTC Event ID']:\n",
    "    eventlist.append(x)\n",
    "print (\"Total number of samples:\", len(eventlist))\n",
    "print(\"Unique CBTTC Event IDs:\", len(set(eventlist)))"
   ]
  },
  {
   "cell_type": "markdown",
   "metadata": {},
   "source": [
    "Which Event ID's are more prevalent in the dataset and how often do they come across?"
   ]
  },
  {
   "cell_type": "code",
   "execution_count": 7,
   "metadata": {},
   "outputs": [
    {
     "name": "stdout",
     "output_type": "stream",
     "text": [
      "nan : 23\n",
      "7316-2176 : 2\n",
      "7316-14 : 2\n",
      "7316-2686 : 2\n",
      "7316-1765 : 2\n",
      "7316-1463 : 2\n",
      "7316-1746 : 2\n",
      "7316-99 : 2\n",
      "7316-1763 : 3\n",
      "7316-193 : 2\n",
      "7316-2322 : 2\n",
      "7316-195 : 3\n",
      "7316-95 : 2\n",
      "7316-3058 : 3\n",
      "7316-2189 : 3\n",
      "7316-24 : 2\n",
      "7316-931 : 2\n",
      "7316-950 : 2\n",
      "7316-1769 : 2\n",
      "7316-178 : 2\n",
      "7316-913 : 3\n",
      "7316-2151 : 2\n",
      "7316-85 : 4\n"
     ]
    }
   ],
   "source": [
    "eventlist = []\n",
    "for x in metadata['CBTTC Event ID']:\n",
    "    eventlist.append(x)\n",
    "morelist = []\n",
    "for x in eventlist:\n",
    "    if eventlist.count(x) > 1:\n",
    "        morelist.append(x)\n",
    "moretimeslist = set(morelist)\n",
    "for x in moretimeslist:\n",
    "    print(x, \":\", eventlist.count(x))\n"
   ]
  },
  {
   "cell_type": "code",
   "execution_count": null,
   "metadata": {},
   "outputs": [],
   "source": [
    "Does sample_id have nan values?"
   ]
  },
  {
   "cell_type": "code",
   "execution_count": 12,
   "metadata": {},
   "outputs": [
    {
     "name": "stdout",
     "output_type": "stream",
     "text": [
      "7316-2176 : 2\n",
      "7316-14 : 2\n",
      "7316-2686 : 2\n",
      "7316-1765 : 2\n",
      "7316-1463 : 2\n",
      "7316-1746 : 2\n",
      "7316-99 : 2\n",
      "7316-1763 : 3\n",
      "7316-193 : 2\n",
      "7316-2322 : 2\n",
      "7316-195 : 3\n",
      "7316-95 : 2\n",
      "7316-3058 : 3\n",
      "7316-2189 : 3\n",
      "7316-24 : 2\n",
      "7316-931 : 2\n",
      "7316-950 : 2\n",
      "7316-1769 : 2\n",
      "7316-178 : 2\n",
      "7316-913 : 3\n",
      "7316-2151 : 2\n",
      "7316-85 : 4\n"
     ]
    }
   ],
   "source": [
    "eventlist2 = []\n",
    "for x in metadata['sample_id']:\n",
    "    eventlist2.append(x)\n",
    "morelist2 = []\n",
    "for x in eventlist2:\n",
    "    if eventlist2.count(x) > 1:\n",
    "        morelist2.append(x)\n",
    "moretimeslist2 = set(morelist2)\n",
    "for x in moretimeslist2:\n",
    "    print(x, \":\", eventlist2.count(x))"
   ]
  },
  {
   "cell_type": "markdown",
   "metadata": {},
   "source": [
    "What is the difference between cbttc event id and sample id?"
   ]
  },
  {
   "cell_type": "code",
   "execution_count": 22,
   "metadata": {},
   "outputs": [
    {
     "name": "stdout",
     "output_type": "stream",
     "text": [
      "{nan}\n"
     ]
    }
   ],
   "source": [
    "print(moretimeslist - moretimeslist2)"
   ]
  },
  {
   "cell_type": "markdown",
   "metadata": {},
   "source": [
    "Which ones of the double cbttc event id's have the same biospecimen id?"
   ]
  },
  {
   "cell_type": "code",
   "execution_count": 68,
   "metadata": {},
   "outputs": [
    {
     "name": "stdout",
     "output_type": "stream",
     "text": [
      "nan : ['BS_BS5X4H0Y', 'BS_MDVMT75X', 'BS_KSRYKCDE', 'BS_T8C13KNH', 'BS_X2G3JMM1', 'BS_A9S5HT6P', 'BS_8JFMP1T1', 'BS_41SWNWAG', 'BS_9R82A3VT', 'BS_10HD18B8', 'BS_AG0BZN6F', 'BS_36HCZ3KW', 'BS_Z9NCH2XA', 'BS_0XD58YD9', 'BS_3ZASRA3A', 'BS_D59VEERR', 'BS_HYGK88B0', 'BS_BM95DGCQ', 'BS_AJAH8KG5', 'BS_A70G7S2W', 'BS_AFAHY6HP', 'BS_PDRNE606', 'BS_5RD8KEED']\n",
      "7316-195 : ['BS_JGKRN7NA', 'BS_AYPBAHJ6', 'BS_XMP9XNR9']\n",
      "7316-24 : ['BS_DDC2WVJY', 'BS_WWTPH7KN']\n",
      "7316-1463 : ['BS_KH3859M5', 'BS_NASADC3P']\n",
      "7316-2189 : ['BS_ERFMPQN3', 'BS_D0T6V861', 'BS_02YBZSBY']\n",
      "7316-1769 : ['BS_RXP2ZRQT', 'BS_KY1CTGJ3']\n",
      "7316-2151 : ['BS_SKRY0BJ4', 'BS_TX8C5VAJ']\n",
      "7316-931 : ['BS_W37QBA12', 'BS_2J4FG4HV']\n",
      "7316-3058 : ['BS_P0QJ1QAH', 'BS_QWM9BPDY', 'BS_HM5GFJN8']\n",
      "7316-950 : ['BS_0HYD1VHH', 'BS_80X7AVCP']\n",
      "7316-2686 : ['BS_TC8R5HY4', 'BS_JX1PK0VW']\n",
      "7316-913 : ['BS_FJEZ3ASV', 'BS_PKZ1HWNB', 'BS_742CDKAS']\n",
      "7316-193 : ['BS_5Z4XQC9X', 'BS_5Z4XQC9X']\n",
      "**Double biospecimen**\n",
      "7316-14 : ['BS_RENPFFNK', 'BS_5BMNK8SY']\n",
      "7316-95 : ['BS_ZVM1B6BF', 'BS_ZR75EKKX']\n",
      "7316-99 : ['BS_SG4F8XVJ', 'BS_XYPG1SXC']\n",
      "7316-178 : ['BS_P99S85CY', 'BS_CKX0R5FN']\n",
      "7316-1763 : ['BS_TF5TTEXH', 'BS_WPCBK1EG', 'BS_853PNV7P']\n",
      "7316-85 : ['BS_CZRA594T', 'BS_E42SSQGJ', 'BS_KVPJVJR7', 'BS_ERAWW3H7']\n",
      "7316-1746 : ['BS_AFBPM6CN', 'BS_68TZMZH1']\n",
      "7316-2322 : ['BS_H1K33JVK', 'BS_H1K33JVK']\n",
      "**Double biospecimen**\n",
      "7316-2176 : ['BS_M659G06J', 'BS_KSHETTQC']\n",
      "7316-1765 : ['BS_9BN45DFK', 'BS_B91XGSA5']\n"
     ]
    }
   ],
   "source": [
    "double_biospecimen = {}\n",
    "for x in moretimeslist:\n",
    "    double_biospecimen[x] = []\n",
    "\n",
    "cbttc_list = metadata['CBTTC Event ID'].tolist()\n",
    "biospecimen_list = metadata['Kids First Biospecimen ID'].tolist()\n",
    "\n",
    "for i in range(len(cbttc_list)):\n",
    "    if (cbttc_list[i] in moretimeslist):\n",
    "        (double_biospecimen[cbttc_list[i]].append(biospecimen_list[i]))\n",
    "for x in double_biospecimen:\n",
    "    print(x, \":\", double_biospecimen[x])\n",
    "    if (len(set(double_biospecimen[x]))) < (len(double_biospecimen[x])):\n",
    "        print (\"**Double biospecimen**\")"
   ]
  },
  {
   "cell_type": "markdown",
   "metadata": {},
   "source": [
    "Get kids first participant ID and filename from the double ones."
   ]
  },
  {
   "cell_type": "code",
   "execution_count": 78,
   "metadata": {},
   "outputs": [
    {
     "name": "stdout",
     "output_type": "stream",
     "text": [
      "\n",
      " 7316-195 :\n",
      "PT_Y5KY6KN9\n",
      "23b31881-c0bc-4bef-9544-920b298b15a6.strelka.vep.maf\n",
      "PT_Y5KY6KN9\n",
      "60e7a8a0-a578-473c-9906-9cc276aa7ab3.strelka.vep.maf\n",
      "PT_Y5KY6KN9\n",
      "0868fe0e-3e4f-4683-bb36-b54d7fe1e9b6.strelka.vep.maf\n",
      "\n",
      " 7316-24 :\n",
      "PT_TGQY3X3W\n",
      "23332257-5d9d-493f-be15-a61f9dbd3d69.strelka.vep.maf\n",
      "PT_TGQY3X3W\n",
      "f64e8f6e-474c-4336-a5f0-06c7a29221a0.strelka.vep.maf\n",
      "\n",
      " 7316-1463 :\n",
      "PT_DTP4MMRA\n",
      "a108a6c9-df58-44c5-912e-067bb8ca3aba.strelka.vep.maf\n",
      "PT_DTP4MMRA\n",
      "f45aabab-6dea-4483-80f3-d56e2996e85a.strelka.vep.maf\n",
      "\n",
      " 7316-2189 :\n",
      "PT_VTM2STE3\n",
      "7866a663-84fa-4d3b-996c-40e4843e7919.strelka.vep.maf\n",
      "PT_VTM2STE3\n",
      "996fbe65-725f-4d8f-a8f8-b2b2ef9367bf.strelka.vep.maf\n",
      "PT_VTM2STE3\n",
      "dad3c511-c031-47c7-a366-cf3d3c1f41c1.strelka.vep.maf\n",
      "\n",
      " 7316-1769 :\n",
      "PT_JSFBMK5V\n",
      "2726fc49-02e1-4b3b-bb21-e40b166203dc.strelka.vep.maf\n",
      "PT_JSFBMK5V\n",
      "ddeb5245-f54c-45e6-a949-914fb26df6e7.strelka.vep.maf\n",
      "\n",
      " 7316-2151 :\n",
      "PT_HNZNZ635\n",
      "002b69f8-45f0-444f-9508-69702206ef3e.strelka.vep.maf\n",
      "PT_HNZNZ635\n",
      "d90567c9-85ef-4ae1-9bb6-3c34c3c26f9a.strelka.vep.maf\n",
      "\n",
      " 7316-931 :\n",
      "PT_XA98HG1C\n",
      "8ac22381-ff18-445c-8741-8978229dfcd3.strelka.vep.maf\n",
      "PT_XA98HG1C\n",
      "d82d6da1-6e80-4dc9-a70b-dd5551bf136c.strelka.vep.maf\n",
      "\n",
      " 7316-3058 :\n",
      "PT_JNEV57VK\n",
      "0a747bfb-e115-4ac0-9077-05defcd1cb7f.strelka.vep.maf\n",
      "PT_JNEV57VK\n",
      "4e484a64-53e3-476e-803f-0069bf3b7326.strelka.vep.maf\n",
      "PT_JNEV57VK\n",
      "cf894836-f6b2-420a-8b72-5cde41e1a9f8.strelka.vep.maf\n",
      "\n",
      " 7316-950 :\n",
      "PT_FMK5VFYW\n",
      "57d8d385-6355-4bf8-8cbc-cfd741a02093.strelka.vep.maf\n",
      "PT_FMK5VFYW\n",
      "fe6fdc92-6a6f-4f5e-8aa5-9d1abbb19920.strelka.vep.maf\n",
      "\n",
      " 7316-2686 :\n",
      "PT_38FS37DP\n",
      "2292e049-f0c1-457d-a042-3110eeaf8783.strelka.vep.maf\n",
      "PT_38FS37DP\n",
      "c64e6fe7-2f5a-4f44-a5e7-43b17e642f39.strelka.vep.maf\n",
      "\n",
      " 7316-913 :\n",
      "PT_4347ZBEX\n",
      "727f9ff0-4b55-484a-a236-df96b9f84077.strelka.vep.maf\n",
      "PT_4347ZBEX\n",
      "7dec273b-a157-42c7-9a0d-3323e26e4e73.strelka.vep.maf\n",
      "PT_4347ZBEX\n",
      "b00adb7e-a946-4bd6-af2d-2668354440dc.strelka.vep.maf\n",
      "\n",
      " 7316-193 :\n",
      "PT_TXFYRDP4\n",
      "79a1038c-1819-449f-bf19-62eb9a94d786.strelka.vep.maf\n",
      "PT_TXFYRDP4\n",
      "8c059ac6-968f-4c0f-bf09-5abcea8071e3.strelka.vep.maf\n",
      "\n",
      " 7316-14 :\n",
      "PT_M0AP3Z15\n",
      "7019b757-b478-4c6a-99ea-0d9dd11a09a5.strelka.vep.maf\n",
      "PT_M0AP3Z15\n",
      "a41506e4-3540-4167-8e8d-1e5ef16c246e.strelka.vep.maf\n",
      "\n",
      " 7316-95 :\n",
      "PT_9S6WMQ92\n",
      "16988148-60a6-4be5-8dbd-8aaee2651d5d.strelka.vep.maf\n",
      "PT_9S6WMQ92\n",
      "ec8da0a8-47f2-4c73-9e6f-edf93352282f.strelka.vep.maf\n",
      "\n",
      " 7316-99 :\n",
      "PT_SCRJF38G\n",
      "5bbd8fb5-bc21-4e22-be3f-5d82ab408cd4.strelka.vep.maf\n",
      "PT_SCRJF38G\n",
      "c9247d82-af74-489e-b3b3-146d614d8ce1.strelka.vep.maf\n",
      "\n",
      " 7316-178 :\n",
      "PT_GR8P8NY5\n",
      "61ae7ed9-56e8-4a5a-8fcc-1ddc4917acb8.strelka.vep.maf\n",
      "PT_GR8P8NY5\n",
      "8c758531-cbe1-499d-a722-79dc4c5f8518.strelka.vep.maf\n",
      "\n",
      " 7316-1763 :\n",
      "PT_Z4PJA6KT\n",
      "07639c82-a2f9-4226-9da6-9e08917aba72.strelka.vep.maf\n",
      "PT_Z4PJA6KT\n",
      "52a50742-83df-4b75-9e6a-4dc1cad5b74a.strelka.vep.maf\n",
      "PT_Z4PJA6KT\n",
      "a2592bfa-1cf9-4f03-8f0f-31dbe55a7e19.strelka.vep.maf\n",
      "\n",
      " 7316-85 :\n",
      "PT_3AWKWXEV\n",
      "55578b3a-4b9b-4a80-9f03-e1a5e09c53f9.strelka.vep.maf\n",
      "PT_3AWKWXEV\n",
      "647fe71e-503a-4ab1-95e0-8dc0af24ee37.strelka.vep.maf\n",
      "PT_3AWKWXEV\n",
      "9c7eeff6-f080-48bc-ad6e-0dec44605126.strelka.vep.maf\n",
      "PT_3AWKWXEV\n",
      "d25a42c5-d248-47c5-926f-78f103f35c83.strelka.vep.maf\n",
      "\n",
      " 7316-1746 :\n",
      "PT_C2D4JXS1\n",
      "3cf868e5-fd46-40f3-9bc6-3b261e1c93a7.strelka.vep.maf\n",
      "PT_C2D4JXS1\n",
      "f70d2b55-f0ba-4ecd-b8de-a50c8730c5db.strelka.vep.maf\n",
      "\n",
      " 7316-2322 :\n",
      "PT_V8714N9H\n",
      "55a0b44f-9178-4bce-bef8-b9c2debc1af2.strelka.vep.maf\n",
      "PT_V8714N9H\n",
      "f9d4157d-0a2a-4548-bae0-30d138a407a3.strelka.vep.maf\n",
      "\n",
      " 7316-2176 :\n",
      "PT_VAJN5QP8\n",
      "284325bb-a71c-43ac-9a22-9daf3903eea3.strelka.vep.maf\n",
      "PT_VAJN5QP8\n",
      "a108c71a-6e83-4736-9169-f934ae13df42.strelka.vep.maf\n",
      "\n",
      " 7316-1765 :\n",
      "PT_QD6KKKJH\n",
      "753adfcf-d58c-4d79-8ffe-d26aaf808115.strelka.vep.maf\n",
      "PT_QD6KKKJH\n",
      "e25d476e-be5c-40e5-92e1-65ab44ba5a4a.strelka.vep.maf\n"
     ]
    }
   ],
   "source": [
    "double_biospecimen2 = {}\n",
    "for x in moretimeslist:\n",
    "    double_biospecimen2[x] = []\n",
    "\n",
    "cbttc_list2 = metadata['CBTTC Event ID'].tolist()\n",
    "kfparticipant_list = metadata['Kids First Participant ID'].tolist()\n",
    "filenames = metadata['name'].tolist()\n",
    "\n",
    "for i in range(len(cbttc_list2)):\n",
    "    if (cbttc_list2[i] in moretimeslist):\n",
    "        (double_biospecimen2[cbttc_list2[i]].append(kfparticipant_list[i]))\n",
    "        (double_biospecimen2[cbttc_list2[i]].append(filenames[i]))\n",
    "\n",
    "counter = 0\n",
    "for x in double_biospecimen2:\n",
    "    if counter > 0:\n",
    "        print(\"\\n\", x, \":\")\n",
    "        for y in double_biospecimen2[x]:\n",
    "            print(y)\n",
    "    counter += 1\n",
    "    "
   ]
  },
  {
   "cell_type": "markdown",
   "metadata": {},
   "source": [
    "How many survivors and how many deceased?"
   ]
  },
  {
   "cell_type": "code",
   "execution_count": 43,
   "metadata": {},
   "outputs": [
    {
     "name": "stdout",
     "output_type": "stream",
     "text": [
      "Deceased: 163\n",
      "Alive: 737\n",
      "Unknown: 46\n"
     ]
    }
   ],
   "source": [
    "deceased = metadata[(metadata['vital_status'].str.contains('Deceased')==True)]['vital_status'].count()\n",
    "alive = metadata[(metadata['vital_status'] == 'Alive')]['vital_status'].count()\n",
    "print (\"Deceased:\", deceased)\n",
    "print (\"Alive:\", alive)\n",
    "unknown = 946 - deceased - alive\n",
    "print(\"Unknown:\", unknown)\n"
   ]
  },
  {
   "cell_type": "markdown",
   "metadata": {},
   "source": [
    "Can you distinguish different groups by Medulloblastoma by looking at sample clinical event origin?"
   ]
  },
  {
   "cell_type": "code",
   "execution_count": 56,
   "metadata": {
    "scrolled": true
   },
   "outputs": [
    {
     "name": "stdout",
     "output_type": "stream",
     "text": [
      "nan 1\n",
      "Progressive CNS Tumor 7\n",
      "Initial CNS Tumor 105\n"
     ]
    }
   ],
   "source": [
    "sampleclinic = metadata[(metadata['disease_type'] == 'Medulloblastoma')]['Sample Clinical Event Origin']\n",
    "samplecliniclist = []\n",
    "for x in sampleclinic:\n",
    "    samplecliniclist.append(x)\n",
    "all_origins = set(samplecliniclist)\n",
    "for x in all_origins:\n",
    "    print(x, samplecliniclist.count(x))"
   ]
  },
  {
   "cell_type": "markdown",
   "metadata": {},
   "source": [
    "Can you distinguish different groups by Medulloblastoma by looking at primary site?"
   ]
  },
  {
   "cell_type": "code",
   "execution_count": 58,
   "metadata": {},
   "outputs": [
    {
     "name": "stdout",
     "output_type": "stream",
     "text": [
      "Ventricles 6\n",
      "Cerebellum/Posterior Fossa; ;Ventricles 5\n",
      "Cerebellum/Posterior Fossa;Ventricles 4\n",
      "Brain Stem- Midbrain/Tectum; ;Cerebellum/Posterior Fossa; ;Occipital Lobe; ;Optic Pathway; ;Parietal Lobe; ;Temporal Lobe;Temporal Lobe;Temporal Lobe 1\n",
      "Cerebellum/Posterior Fossa; ;Spinal Cord- Lumbar/Thecal Sac 1\n",
      "Cerebellum/Posterior Fossa;Spinal Cord- Cervical;Spinal Cord- Lumbar/Thecal Sac;Spinal Cord- Thoracic 2\n",
      "Cerebellum/Posterior Fossa; ;Spinal Cord- Thoracic 1\n",
      "Occipital Lobe 1\n",
      "Cerebellum/Posterior Fossa;Meninges/Dura;Spinal Cord- Cervical;Spinal Cord- Thoracic;Ventricles 1\n",
      "Frontal Lobe 1\n",
      "Cerebellum/Posterior Fossa;Spinal Cord- Lumbar/Thecal Sac 1\n",
      "Cerebellum/Posterior Fossa 85\n",
      "Cerebellum/Posterior Fossa; ;Suprasellar/Hypothalamic/Pituitary 3\n",
      "Cerebellum/Posterior Fossa; ;Spinal Cord- Cervical; ;Spinal Cord- Lumbar/Thecal Sac; ;Spinal Cord- Thoracic 1\n"
     ]
    }
   ],
   "source": [
    "primary_site = metadata[(metadata['disease_type'] == 'Medulloblastoma')]['primary_site']\n",
    "primary_sitelist = []\n",
    "for x in primary_site:\n",
    "    primary_sitelist.append(x)\n",
    "all_sites = set(primary_sitelist)\n",
    "for x in all_sites:\n",
    "    print(x, primary_sitelist.count(x))"
   ]
  },
  {
   "cell_type": "markdown",
   "metadata": {},
   "source": [
    "Multiple boxplots of the age distribution off the 9 most common cancer types "
   ]
  },
  {
   "cell_type": "code",
   "execution_count": 4,
   "metadata": {},
   "outputs": [
    {
     "data": {
      "image/png": "[encoded data removed]",
      "text/plain": [
       "<Figure size 864x576 with 1 Axes>"
      ]
     },
     "metadata": {
      "needs_background": "light"
     },
     "output_type": "display_data"
    }
   ],
   "source": [
    "#Low-grade glioma/astrocytoma (WHO grade I/II)                                     248\n",
    "#Medulloblastoma                                                                   112\n",
    "#High-grade glioma/astrocytoma (WHO grade III/IV)                                  100\n",
    "#Ependymoma                                                                         82\n",
    "#Ganglioglioma                                                                      48\n",
    "#Other                                                                              41\n",
    "#Craniopharyngioma                                                                  39\n",
    "#Meningioma                                                                         32\n",
    "#Atypical Teratoid Rhabdoid Tumor (ATRT)                                            31\n",
    "#Dysembryoplastic neuroepithelial tumor (DNET)                                      26\n",
    "#Neurofibroma/Plexiform     \n",
    "\n",
    "\n",
    "def make_boxplot_list(diseasetype):\n",
    "    agelist = []\n",
    "    disease_age = (metadata[(metadata['disease_type']== diseasetype)])['age_at_diagnosis']\n",
    "    for x in disease_age:\n",
    "        if (not math.isnan(x)):\n",
    "            age = x / 365.25\n",
    "            agelist.append(age)\n",
    "    return agelist\n",
    "\n",
    "def main():\n",
    "    lowgradelist = make_boxplot_list(\"Low-grade glioma/astrocytoma (WHO grade I/II)\")\n",
    "    medullolist = make_boxplot_list(\"Medulloblastoma\")\n",
    "    highgradelist = make_boxplot_list(\"High-grade glioma/astrocytoma (WHO grade III/IV)\")\n",
    "    ependymomalist = make_boxplot_list(\"Ependymoma\")\n",
    "    gangliolist = make_boxplot_list(\"Ganglioglioma\")\n",
    "    craniolist = make_boxplot_list(\"Craniopharyngioma\")\n",
    "    meningiomalist = make_boxplot_list(\"Meningioma\")\n",
    "    rhabdoidlist = make_boxplot_list(\"Atypical Teratoid Rhabdoid Tumor (ATRT)\")\n",
    "    dysneurolist = make_boxplot_list(\"Dysembryoplastic neuroepithelial tumor (DNET)\")\n",
    "    neurofiblist = make_boxplot_list(\"Neurofibroma/Plexiform\")\n",
    "    \n",
    "    data = [lowgradelist, medullolist, highgradelist, ependymomalist, gangliolist, craniolist, \n",
    "            meningiomalist, rhabdoidlist, dysneurolist, neurofiblist]\n",
    "    fig = plt.figure(1, figsize=(12,8))\n",
    "    ax1 = fig.add_subplot(111)\n",
    "    ax1.set_title(\"Age distribution 10 most common cancer types\")\n",
    "    ax1.boxplot(data)\n",
    "    ax1.set_xticklabels(['Low-grade glioma (248)', 'Medulloblastoma (112)', 'High-grade glioma (100)',\n",
    "                         'Ependymoma (82)', 'Ganglioglioma (48)', 'Craniopharyngioma (39)', 'Meningioma (32)',\n",
    "                        'Atypical Teratoid\\n Rhabdoid Tumor (31)', 'Dysembryoplastic\\n neuroepithelial tumor (26)',\n",
    "                        'Nuerofibroma/Plexiform (20)'], rotation = 45)\n",
    "main()"
   ]
  },
  {
   "cell_type": "markdown",
   "metadata": {},
   "source": [
    "What are the ages of the \"other\" category?"
   ]
  },
  {
   "cell_type": "code",
   "execution_count": 135,
   "metadata": {},
   "outputs": [
    {
     "name": "stdout",
     "output_type": "stream",
     "text": [
      "[14.381930184804927, 11.132101300479125, 14.088980150581794, 15.578370978781656, 0.8323066392881588, 7.742642026009582, 10.028747433264886, 11.433264887063656, 20.3750855578371, 6.357289527720739, 10.05886379192334, 3.132101300479124, 0.32306639288158795, 15.304585900068446, 1.4565366187542779, 10.948665297741274, 1.3059548254620124, 8.183436002737851, 14.915811088295689, 0.06023271731690623, 7.863107460643395, 1.0321697467488022, 16.67898699520876, 3.1047227926078027, 0.6598220396988365, 8.700889801505818, 19.170431211498972, 16.5968514715948, 15.66050650239562, 15.657768651608487, 2.5051334702258727, 23.8466803559206, 3.509924709103354, 12.39151266255989, 5.577002053388091, 10.151950718685832, 4.251882272416153, 11.953456536618754, 7.898699520876113]\n"
     ]
    }
   ],
   "source": [
    "otherlist = make_boxplot_list(\"Other\")\n",
    "print (otherlist)"
   ]
  },
  {
   "cell_type": "markdown",
   "metadata": {},
   "source": [
    "Which patients are more often prevalent in the dataset?"
   ]
  },
  {
   "cell_type": "code",
   "execution_count": 20,
   "metadata": {},
   "outputs": [
    {
     "name": "stdout",
     "output_type": "stream",
     "text": [
      "PT_AWMZ12NP : 2\n",
      "PT_V8714N9H : 2\n",
      "PT_KCTZZA3G : 2\n",
      "PT_4347ZBEX : 3\n",
      "PT_WP871F5S : 2\n",
      "PT_RGX23JFP : 2\n",
      "PT_W6AWJJK7 : 2\n",
      "PT_J06X17XH : 2\n",
      "PT_2E552BAR : 2\n",
      "PT_MDWPRDBT : 4\n",
      "PT_ESHACWF6 : 2\n",
      "PT_3AWKWXEV : 4\n",
      "PT_C2D4JXS1 : 2\n",
      "PT_9S6WMQ92 : 4\n",
      "PT_3T3VGWC6 : 2\n",
      "PT_J50NZYZF : 2\n",
      "PT_RJ1TJ2KH : 2\n",
      "PT_HFQNKP5X : 4\n",
      "PT_2ECVKTTQ : 2\n",
      "PT_NESAQHB1 : 2\n",
      "PT_37B5JRP1 : 2\n",
      "PT_8RB7TPS2 : 2\n",
      "PT_PR4YBBH3 : 2\n",
      "PT_02J5CWN5 : 2\n",
      "PT_59D00MBQ : 2\n",
      "PT_XHYBZKCX : 2\n",
      "PT_3D74J8RZ : 2\n",
      "PT_Y572BRC1 : 3\n",
      "PT_HT4HJXY6 : 2\n",
      "PT_XA98HG1C : 3\n",
      "PT_9PJR0ZK7 : 2\n",
      "PT_DH8A0SNQ : 2\n",
      "PT_ZMKMKCFQ : 2\n",
      "PT_VAJN5QP8 : 2\n",
      "PT_00G007DM : 2\n",
      "PT_GR8P8NY5 : 2\n",
      "PT_3R0P995B : 2\n",
      "PT_3CHB9PK5 : 2\n",
      "PT_CXT81GRM : 2\n",
      "PT_TXFYRDP4 : 2\n",
      "PT_S2SQJVGK : 2\n",
      "PT_Z4PJA6KT : 3\n",
      "PT_9DMMZ08D : 2\n",
      "PT_MQYPS0W1 : 2\n",
      "PT_TKWTTRQ7 : 2\n",
      "PT_3KM9W8S8 : 2\n",
      "PT_DFQAH7RS : 2\n",
      "PT_2FVTD0WR : 2\n",
      "PT_ZZRBX5JT : 3\n",
      "PT_1H2REHT2 : 3\n",
      "PT_XTVQB9S4 : 2\n",
      "PT_38FS37DP : 2\n",
      "PT_FN4GEEFR : 2\n",
      "PT_KMHGNCNR : 2\n",
      "PT_6MWPJ96F : 2\n",
      "PT_AQWDQW27 : 3\n",
      "PT_89XRZBSG : 2\n",
      "PT_2YT37G8P : 2\n",
      "PT_QD6KKKJH : 2\n",
      "PT_DTP4MMRA : 2\n",
      "PT_H45M7M2T : 2\n",
      "PT_HJMP6PH2 : 2\n",
      "PT_SCRJF38G : 2\n",
      "PT_962TCBVR : 3\n",
      "PT_M0AP3Z15 : 2\n",
      "PT_JP1FDKN9 : 2\n",
      "PT_99S5BPE3 : 3\n",
      "PT_Z4GS3ZQQ : 2\n",
      "PT_S4YNE17X : 5\n",
      "PT_TGQY3X3W : 2\n",
      "PT_2WVW55DA : 4\n",
      "PT_N8W26H19 : 3\n",
      "PT_EYWDFKA7 : 2\n",
      "PT_T2M1338J : 2\n",
      "PT_3VCS1PPF : 2\n",
      "PT_JSFBMK5V : 3\n",
      "PT_Y5KY6KN9 : 3\n",
      "PT_FZHGKJ0H : 2\n",
      "PT_1ZAWNGWT : 2\n",
      "PT_5Q52M9W8 : 2\n",
      "PT_25Z2NX27 : 2\n",
      "PT_QH9H491G : 2\n",
      "PT_YGN06RPZ : 2\n",
      "PT_4ZSR5DY8 : 2\n",
      "PT_82MX6J77 : 2\n",
      "PT_NPETR8RY : 2\n",
      "PT_5EPZ7TCT : 2\n",
      "PT_7JQ24F35 : 3\n",
      "PT_K8ZV7APT : 4\n",
      "PT_HNZNZ635 : 2\n",
      "PT_PFA762TK : 2\n",
      "PT_98QMQZY7 : 2\n",
      "PT_VTM2STE3 : 3\n",
      "PT_W17NV5YG : 2\n",
      "PT_8GN3TQRM : 3\n",
      "PT_XWYNQBTK : 2\n",
      "PT_7M2PGCBV : 2\n",
      "PT_FMK5VFYW : 2\n",
      "PT_JNEV57VK : 4\n",
      "Total number of samples: 946\n",
      "Number of patients that occur once in the dataset: 716\n",
      "Number of samples from patients that occur more than once: 230\n",
      "Number of patients that occur more than once: 99\n"
     ]
    }
   ],
   "source": [
    "onetime = 0\n",
    "patientlist = []\n",
    "for x in metadata['Kids First Participant ID']:\n",
    "    patientlist.append(x)\n",
    "more_list = []\n",
    "for x in patientlist:\n",
    "    if patientlist.count(x) > 1:\n",
    "        more_list.append(x)\n",
    "    else:\n",
    "        onetime += 1\n",
    "moretimespatient = set(more_list)\n",
    "for x in moretimespatient:\n",
    "    print(x, \":\", patientlist.count(x))\n",
    "print(\"Total number of samples:\", len(patientlist))\n",
    "print(\"Number of patients that occur once in the dataset:\", onetime)\n",
    "print(\"Number of samples from patients that occur more than once:\", len(more_list))\n",
    "print(\"Number of patients that occur more than once:\", len(moretimespatient))"
   ]
  },
  {
   "cell_type": "markdown",
   "metadata": {},
   "source": [
    "How many samples from each medulloblastoma subtype?"
   ]
  },
  {
   "cell_type": "code",
   "execution_count": 12,
   "metadata": {},
   "outputs": [
    {
     "data": {
      "text/plain": [
       "molecular_subtype\n",
       "Group4    58\n",
       "SHH       27\n",
       "Group3    26\n",
       "WNT       12\n",
       "Name: molecular_subtype, dtype: int64"
      ]
     },
     "execution_count": 12,
     "metadata": {},
     "output_type": "execute_result"
    }
   ],
   "source": [
    "medullo_data.groupby('molecular_subtype')['molecular_subtype'].agg('count').sort_values(ascending=False)\n"
   ]
  },
  {
   "cell_type": "markdown",
   "metadata": {},
   "source": [
    "Barplot subtypes medulloblastoma"
   ]
  },
  {
   "cell_type": "code",
   "execution_count": 3,
   "metadata": {},
   "outputs": [
    {
     "data": {
      "text/plain": [
       "<matplotlib.axes._subplots.AxesSubplot at 0x18634341940>"
      ]
     },
     "execution_count": 3,
     "metadata": {},
     "output_type": "execute_result"
    },
    {
     "data": {
      "image/png": "[encoded data removed]",
      "text/plain": [
       "<Figure size 432x288 with 1 Axes>"
      ]
     },
     "metadata": {
      "needs_background": "light"
     },
     "output_type": "display_data"
    }
   ],
   "source": [
    "medullo_data = pd.read_table('cbttc-histologies2.xlsx')\n",
    "medullo_data.groupby('molecular_subtype')['molecular_subtype'].agg('count').sort_values(ascending=False).plot.bar(edgecolor='black')\n"
   ]
  },
  {
   "cell_type": "markdown",
   "metadata": {},
   "source": [
    "Make boxplot of the ages of the subtypes of medulloblastoma"
   ]
  },
  {
   "cell_type": "code",
   "execution_count": 8,
   "metadata": {},
   "outputs": [
    {
     "data": {
      "image/png": "[encoded data removed]",
      "text/plain": [
       "<Figure size 864x576 with 1 Axes>"
      ]
     },
     "metadata": {
      "needs_background": "light"
     },
     "output_type": "display_data"
    }
   ],
   "source": [
    "def make_medullo_boxplot_list(diseasetype):\n",
    "    agelist = []\n",
    "    disease_age = (medullo_data[(medullo_data['molecular_subtype']== diseasetype)])['age_at_diagnosis_days']\n",
    "    for x in disease_age:\n",
    "        if (not math.isnan(x)):\n",
    "            age = x / 365.25\n",
    "            agelist.append(age)\n",
    "    return agelist\n",
    "\n",
    "def main():\n",
    "    group4list = (make_medullo_boxplot_list(\"Group4\"))\n",
    "    shhlist = (make_medullo_boxplot_list(\"SHH\"))\n",
    "    group3list = (make_medullo_boxplot_list(\"Group3\"))\n",
    "    wntlist = (make_medullo_boxplot_list(\"WNT\"))\n",
    "    \n",
    "    data = [group4list, shhlist, group3list, wntlist]\n",
    "    fig = plt.figure(1, figsize=(12,8))\n",
    "    ax1 = fig.add_subplot(111)\n",
    "    ax1.set_title(\"Age distribution medullo blastoma subtypes\")\n",
    "    ax1.boxplot(data)\n",
    "    ax1.set_xticklabels(['Group 4 (58)', 'SHH (27)', 'Group 3 (26)', 'WNT (12)'], rotation = 45)\n",
    "main()"
   ]
  },
  {
   "cell_type": "markdown",
   "metadata": {},
   "source": [
    "Total number of each type of samples"
   ]
  },
  {
   "cell_type": "code",
   "execution_count": 47,
   "metadata": {
    "scrolled": true
   },
   "outputs": [
    {
     "name": "stdout",
     "output_type": "stream",
     "text": [
      "Initial CNS tumor: 723\n",
      "Progressive CNS tumor: 139\n",
      "Recurrence CNS tumor: 65\n",
      "Second malignancy: 19\n",
      "Unique identifiers initial CNS tumor: 688\n",
      "Number of initial identiers that are of disease type other: 31\n",
      "Total of initial samples without disease type other 657\n",
      "Percentage initial vs all samples 69.45031712473573 %\n"
     ]
    }
   ],
   "source": [
    "def check_cns (cns_type):\n",
    "    initial = 0\n",
    "    progressive = 0\n",
    "    recurrence = 0\n",
    "    second = 0\n",
    "    if (cns_type == \"Initial CNS Tumor\"):\n",
    "        initial += 1\n",
    "    elif (cns_type == \"Progressive CNS Tumor\" or cns_type == \"Progressive\" or cns_type == \" Progressive CNS Tumor\"):\n",
    "        progressive += 1\n",
    "    elif (cns_type == \"Recurrence CNS Tumor\" or cns_type == \"Recurrence\"):\n",
    "        recurrence += 1\n",
    "    elif (cns_type == \"Second Malignancy\"):\n",
    "        second += 1\n",
    "    return initial, progressive, recurrence, second\n",
    "\n",
    "def main():\n",
    "    initial_list = []\n",
    "    file = open(\"CBTTC_metadata.csv\", \"r\")\n",
    "    initial_cns = 0\n",
    "    progressive_cns = 0\n",
    "    recurrence_cns = 0\n",
    "    second_malignancy = 0\n",
    "    other = 0\n",
    "    for x in file:\n",
    "        if len(x.split(\",\")[10]) < 1:\n",
    "            initial, progressive, recurrence, second = check_cns (x.split(\",\")[12])\n",
    "        else:\n",
    "            initial, progressive, recurrence, second = check_cns (x.split(\",\")[10])\n",
    "        initial_cns += initial\n",
    "        progressive_cns += progressive\n",
    "        recurrence_cns += recurrence\n",
    "        second_malignancy += second\n",
    "        if initial == 1:\n",
    "            initial_list.append(x.split(\",\")[6])\n",
    "            if x.split(\",\")[9] == \"Other\":\n",
    "                other += 1      \n",
    "       \n",
    "    print(\"Initial CNS tumor:\", initial_cns)\n",
    "    print(\"Progressive CNS tumor:\", progressive_cns)\n",
    "    print(\"Recurrence CNS tumor:\", recurrence_cns)\n",
    "    print(\"Second malignancy:\", second_malignancy)\n",
    "    print(\"Unique identifiers initial CNS tumor:\", len(set(initial_list)))\n",
    "    print(\"Number of initial identifiers that are of disease type other:\", other)\n",
    "    print(\"Total of initial samples without disease type other\", len(set(initial_list))-other)\n",
    "    print(\"Percentage initial vs all samples\", (657/946) * 100, \"%\")\n",
    "    file.close()\n",
    "main()"
   ]
  },
  {
   "cell_type": "markdown",
   "metadata": {},
   "source": [
    "Make barplot of amount of cancer types of the filtered patient files"
   ]
  },
  {
   "cell_type": "code",
   "execution_count": 11,
   "metadata": {},
   "outputs": [
    {
     "data": {
      "text/plain": [
       "subtype\n",
       "Low-grade glioma/astrocytoma (WHO grade I/II)             224\n",
       "Ependymoma                                                 68\n",
       "Medulloblastoma Group4                                     45\n",
       "Ganglioglioma                                              43\n",
       "High-grade glioma/astrocytoma (WHO grade III/IV) Other     40\n",
       "Craniopharyngioma                                          36\n",
       "Atypical Teratoid Rhabdoid Tumor (ATRT)                    27\n",
       "Dysembryoplastic neuroepithelial tumor (DNET)              23\n",
       "Meningioma                                                 21\n",
       "Medulloblastoma Group3                                     19\n",
       "High-grade glioma/astrocytoma (WHO grade III/IV) K27M      18\n",
       "Medulloblastoma SHH                                        17\n",
       "Choroid plexus papilloma                                   15\n",
       "Dysplasia/Gliosis                                          14\n",
       "Supratentorial or Spinal Cord PNET                         12\n",
       "Schwannoma                                                 12\n",
       "Neurofibroma/Plexiform                                     12\n",
       "Medulloblastoma WNT                                        11\n",
       "Medulloblastoma Other                                       8\n",
       "Teratoma                                                    7\n",
       "Brainstem glioma- Diffuse intrinsic pontine glioma          6\n",
       "Ewings Sarcoma                                              6\n",
       "Germinoma                                                   4\n",
       "Chordoma                                                    4\n",
       "Langerhans Cell histiocytosis                               4\n",
       "Adenoma                                                     4\n",
       "Pineoblastoma                                               4\n",
       "Metastatic secondary tumors                                 3\n",
       "Glial-neuronal tumor NOS                                    3\n",
       "Neurocytoma                                                 3\n",
       "Malignant peripheral nerve sheath tumor (MPNST)             3\n",
       "Hemangioblastoma                                            3\n",
       "Choroid plexus carcinoma                                    3\n",
       "Subependymal Giant Cell Astrocytoma (SEGA)                  2\n",
       "Rhabdomyosarcoma                                            2\n",
       "Gliomatosis Cerebri                                         2\n",
       "Neuroblastoma                                               2\n",
       "Ganglioneuroblastoma                                        2\n",
       "Oligodendroglioma                                           2\n",
       "Primary CNS lymphoma                                        1\n",
       "Cavernoma                                                   1\n",
       "Sarcoma                                                     1\n",
       "Name: subtype, dtype: int64"
      ]
     },
     "execution_count": 11,
     "metadata": {},
     "output_type": "execute_result"
    }
   ],
   "source": [
    "patientfiledata = pd.read_table('patientfiles.txt', sep = \"\\t\", names = [\"filename\", \"fileidentifier\", \"patientidentifier\", \"cancertype\", \"subtype\"])\n",
    "patientfiledata.head()\n",
    "patientfiledata.groupby('subtype')['subtype'].agg('count').sort_values(ascending=False).sort_values(ascending=False)"
   ]
  },
  {
   "cell_type": "code",
   "execution_count": 18,
   "metadata": {},
   "outputs": [
    {
     "data": {
      "image/png": "[encoded data removed]",
      "text/plain": [
       "<Figure size 432x288 with 1 Axes>"
      ]
     },
     "metadata": {
      "needs_background": "light"
     },
     "output_type": "display_data"
    }
   ],
   "source": [
    "patientfiledata.groupby('subtype')['subtype'].agg('count').sort_values(ascending=False).head(21).sort_values(ascending=True).plot.barh(width=1)\n",
    "plt.show()"
   ]
  },
  {
   "cell_type": "code",
   "execution_count": 19,
   "metadata": {},
   "outputs": [
    {
     "data": {
      "image/png": "[encoded data removed]",
      "text/plain": [
       "<Figure size 432x288 with 1 Axes>"
      ]
     },
     "metadata": {
      "needs_background": "light"
     },
     "output_type": "display_data"
    }
   ],
   "source": [
    "patientfiledata.groupby('subtype')['subtype'].agg('count').sort_values(ascending=False).tail(21).sort_values(ascending=True).plot.barh(width=1)\n",
    "plt.show()"
   ]
  },
  {
   "cell_type": "markdown",
   "metadata": {},
   "source": [
    "How often does the experimental strategy WGS occur?"
   ]
  },
  {
   "cell_type": "code",
   "execution_count": 3,
   "metadata": {},
   "outputs": [
    {
     "data": {
      "text/plain": [
       "experimental_strategy\n",
       "WGS    946\n",
       "Name: experimental_strategy, dtype: int64"
      ]
     },
     "execution_count": 3,
     "metadata": {},
     "output_type": "execute_result"
    }
   ],
   "source": [
    "metadata.groupby('experimental_strategy')['experimental_strategy'].agg('count')"
   ]
  }
 ],
 "metadata": {
  "kernelspec": {
   "display_name": "Python 3",
   "language": "python",
   "name": "python3"
  },
  "language_info": {
   "codemirror_mode": {
    "name": "ipython",
    "version": 3
   },
   "file_extension": ".py",
   "mimetype": "text/x-python",
   "name": "python",
   "nbconvert_exporter": "python",
   "pygments_lexer": "ipython3",
   "version": "3.7.0"
  }
 },
 "nbformat": 4,
 "nbformat_minor": 2
}
